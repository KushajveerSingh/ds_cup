{
  "nbformat": 4,
  "nbformat_minor": 0,
  "metadata": {
    "colab": {
      "name": "EDA.ipynb",
      "provenance": [],
      "collapsed_sections": [],
      "authorship_tag": "ABX9TyOavLcEcYZR1iQ/TWXcniiv"
    },
    "kernelspec": {
      "name": "python3",
      "display_name": "Python 3"
    },
    "language_info": {
      "name": "python"
    }
  },
  "cells": [
    {
      "cell_type": "markdown",
      "metadata": {
        "id": "hIwJoNASF6Hc"
      },
      "source": [
        "## This notebook generates two html files, showing a summary of training data"
      ]
    },
    {
      "cell_type": "code",
      "metadata": {
        "id": "nlKeawAt0r1F"
      },
      "source": [
        "!pip install sweetviz"
      ],
      "execution_count": null,
      "outputs": []
    },
    {
      "cell_type": "code",
      "metadata": {
        "id": "18fJdjbN1LUX"
      },
      "source": [
        "import pandas as  pd\n",
        "import sweetviz as sv\n",
        "\n",
        "# import raw training set\n",
        "df = pd.read_csv('https://raw.githubusercontent.com/KushajveerSingh/ds_cup/main/data_orig/train.csv')\n",
        "\n",
        "#analyzing the dataset\n",
        "advert_report = sv.analyze(df)\n",
        "#display the report\n",
        "advert_report.show_html('EDA.html')"
      ],
      "execution_count": null,
      "outputs": []
    },
    {
      "cell_type": "markdown",
      "metadata": {
        "id": "EXOi56CZGrLB"
      },
      "source": [
        "Returning the summary between two classes of target variable"
      ]
    },
    {
      "cell_type": "code",
      "metadata": {
        "id": "NBw74KwZ2G50"
      },
      "source": [
        "# separate two classes to do EDA on each \n",
        "df1 = df[df['Default_ind'] == 1]\n",
        "df0 = df[df['Default_ind'] == 0]\n",
        "\n",
        "# delete problematic column\n",
        "del df1['auto_open_36_month_num']\n",
        "del df0['auto_open_36_month_num']\n",
        "\n",
        "dfc = sv.compare(df1, df0)\n",
        "dfc.show_html('Compare.html')"
      ],
      "execution_count": null,
      "outputs": []
    }
  ]
}