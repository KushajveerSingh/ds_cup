{
 "metadata": {
  "language_info": {
   "codemirror_mode": {
    "name": "ipython",
    "version": 3
   },
   "file_extension": ".py",
   "mimetype": "text/x-python",
   "name": "python",
   "nbconvert_exporter": "python",
   "pygments_lexer": "ipython3",
   "version": "3.8.0"
  },
  "orig_nbformat": 2,
  "kernelspec": {
   "name": "python380jvsc74a57bd06770bb0804dde752bad64f8db710cff9a548fb4282bcd1e70abbe4e52f54e7e6",
   "display_name": "Python 3.8.0 64-bit"
  }
 },
 "nbformat": 4,
 "nbformat_minor": 2,
 "cells": [
  {
   "source": [
    "#### Requires installation of wkhtmltox "
   ],
   "cell_type": "markdown",
   "metadata": {}
  },
  {
   "source": [
    "import pandas as pd\n",
    "import numpy as np\n",
    "import PySimpleGUI as sg\n",
    "import lime\n",
    "import lime.lime_tabular as lime_tabular\n",
    "import io\n",
    "import imgkit\n",
    "path_wkhtmltoimg = r'C:\\Program Files\\wkhtmltopdf\\bin\\wkhtmltoimage.exe'\n",
    "config = imgkit.config(wkhtmltoimage = path_wkhtmltoimg)\n",
    "from PIL import Image\n",
    "import warnings\n",
    "warnings.filterwarnings('ignore')"
   ],
   "cell_type": "code",
   "metadata": {},
   "execution_count": 32,
   "outputs": []
  },
  {
   "cell_type": "code",
   "execution_count": 33,
   "metadata": {},
   "outputs": [
    {
     "output_type": "stream",
     "name": "stdout",
     "text": [
      "The scikit-learn version is 0.24.1.\n"
     ]
    }
   ],
   "source": [
    "import sklearn\n",
    "print('The scikit-learn version is {}.'.format(sklearn.__version__))"
   ]
  },
  {
   "cell_type": "code",
   "execution_count": 34,
   "metadata": {
    "tags": []
   },
   "outputs": [],
   "source": [
    "import joblib\n",
    "clf = joblib.load(r'NewRF.mod')"
   ]
  },
  {
   "cell_type": "code",
   "execution_count": 35,
   "metadata": {},
   "outputs": [],
   "source": [
    "# import raw training set\n",
    "DFtrain = pd.read_csv('https://raw.githubusercontent.com/KushajveerSingh/ds_cup/main/data_orig/train.csv')"
   ]
  },
  {
   "cell_type": "code",
   "execution_count": 36,
   "metadata": {},
   "outputs": [],
   "source": [
    "colNames = ['avg_card_debt',\n",
    "'card_age',\n",
    "'non_mtg_acc_past_due_12_months_num',\n",
    "'inq_12_month_num',\n",
    "'uti_card'\n",
    "]"
   ]
  },
  {
   "cell_type": "code",
   "execution_count": 37,
   "metadata": {},
   "outputs": [],
   "source": [
    "DFtrainX = DFtrain[colNames]\n",
    "DFtrainY = DFtrain.iloc[:,-1]"
   ]
  },
  {
   "cell_type": "code",
   "execution_count": 38,
   "metadata": {},
   "outputs": [],
   "source": [
    "TestInstance = pd.DataFrame(columns=colNames)"
   ]
  },
  {
   "cell_type": "code",
   "execution_count": 39,
   "metadata": {},
   "outputs": [],
   "source": [
    "def askPopUp():\n",
    "    return True if sg.PopupYesNo('Do you wish to add this for future learning?') == 'Yes' else False"
   ]
  },
  {
   "cell_type": "code",
   "execution_count": 40,
   "metadata": {},
   "outputs": [],
   "source": [
    "def addValueToCSV(arr):\n",
    "    nextline = \"\"\n",
    "    for x in arr:\n",
    "        nextline += str(x) + \",\"\n",
    "    nextline = nextline[:-1]\n",
    "    with open('newvalues.csv','a') as f:\n",
    "        f.write(nextline)\n",
    "        f.write(\"\\n\")\n",
    "        f.flush()"
   ]
  },
  {
   "cell_type": "code",
   "execution_count": 41,
   "metadata": {},
   "outputs": [
    {
     "output_type": "stream",
     "name": "stdout",
     "text": [
      "Loading page (1/2)\n",
      "Rendering (2/2)                                                    \n",
      "Done                                                               \n",
      "\n"
     ]
    }
   ],
   "source": [
    "sg.theme('LightGrey3')   # Add a touch of color\n",
    "layout = []\n",
    "for col in colNames:\n",
    "    layout.append([sg.Text(col,size=(34,1)), sg.InputText()])\n",
    "layout.append([sg.Image(key='-IMAGE2-'),sg.Text(\"Fill in details to check Risk\",key='-ISRISK-')])\n",
    "layout.append([sg.Button('Ok'), sg.Button('Incorrect') ,sg.Button('Cancel')])\n",
    "\n",
    "window = sg.Window('Enter Details', layout)# Create the Window\n",
    "vals = {}\n",
    "try:\n",
    "    while True:# Event Loop to process \"events\" and get the \"values\" of the inputs\n",
    "        event, values = window.read()\n",
    "        if event == sg.WIN_CLOSED or event == 'Cancel': # if user closes window or clicks cancel\n",
    "            window.close()\n",
    "            break\n",
    "        elif event == 'Ok':\n",
    "            for val,col in zip(values,colNames):\n",
    "                vals[col] = float(values[val]) #Saving as backup\n",
    "            test_instance = np.array([x for x in vals.values()])\n",
    "            trgtNames = [x for x in set(DFtrainY)]\n",
    "            explainer = lime_tabular.LimeTabularExplainer(DFtrainX,\"classification\",feature_names=colNames,class_names=trgtNames,discretize_continuous=False)\n",
    "            exp = explainer.explain_instance(test_instance,clf.predict_proba,num_features=5,num_samples=5000,model_regressor=None)\n",
    "            htmlExp = exp.as_html()\n",
    "            imgkit.from_string(htmlExp, '_out.jpg',config=config)\n",
    "            \n",
    "            img = Image.open('_out.jpg', mode='r')\n",
    "            width, height = img.size\n",
    "            # Setting the points for cropped image\n",
    "            left = 0\n",
    "            top = 0\n",
    "            right = width*2/3\n",
    "            bottom = height-30\n",
    "            \n",
    "            img = img.crop((left, top, right, bottom)) # Cropped image of above dimension\n",
    "            img_byte_arr = io.BytesIO()\n",
    "            img.save(img_byte_arr, format='PNG')\n",
    "            img_byte_arr = img_byte_arr.getvalue()\n",
    "            window['-IMAGE2-'].update(data=img_byte_arr)\n",
    "            exp.predict_proba[-1]\n",
    "            txt = \"\"\n",
    "            eval_prob = False\n",
    "            if(exp.predict_proba[-1]>0.5758):\n",
    "                txt = \"Risky\"\n",
    "                eval_prob = True\n",
    "            else:\n",
    "                txt = \"Not Risky\"\n",
    "            window[\"-ISRISK-\"].update(txt)\n",
    "            if(askPopUp()):\n",
    "                saveVals = list(test_instance)\n",
    "                saveVals.extend([eval_prob,eval_prob])\n",
    "                addValueToCSV(saveVals)\n",
    "        elif event == 'Incorrect':\n",
    "             if(askPopUp()):\n",
    "                 saveVals = list(test_instance)\n",
    "                 saveVals.extend([eval_prob,not eval_prob])\n",
    "                 addValueToCSV(saveVals)\n",
    "except:\n",
    "    print(\"Error, Cancelled\")\n",
    "    window.close()\n",
    "print()"
   ]
  },
  {
   "cell_type": "code",
   "execution_count": 42,
   "metadata": {},
   "outputs": [],
   "source": [
    "window.close() #Use this as a backup way to kill the process."
   ]
  }
 ]
}