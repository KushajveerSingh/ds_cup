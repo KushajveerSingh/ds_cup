{
 "cells": [
  {
   "cell_type": "markdown",
   "id": "infinite-paris",
   "metadata": {},
   "source": [
    "## Install all packages\n",
    "The package versions are tested on my local machine."
   ]
  },
  {
   "cell_type": "code",
   "execution_count": null,
   "id": "coral-satellite",
   "metadata": {},
   "outputs": [],
   "source": [
    "!pip install pandas==1.2.0\n",
    "!pip install matplotlib==3.3.3\n",
    "!pip install numpy==1.19.2"
   ]
  },
  {
   "cell_type": "markdown",
   "id": "conservative-liverpool",
   "metadata": {},
   "source": [
    "## Clone github (to access data)\n",
    "Data available at `ds_cup/orig_data` as\n",
    "- `train.csv`\n",
    "- `valid.csv`\n",
    "- `test.csv`"
   ]
  },
  {
   "cell_type": "code",
   "execution_count": null,
   "id": "streaming-firewall",
   "metadata": {},
   "outputs": [],
   "source": [
    "!git clone https://github.com/KushajveerSingh/ds_cup"
   ]
  },
  {
   "cell_type": "markdown",
   "id": "amateur-variation",
   "metadata": {},
   "source": [
    "## Imports (and junk)"
   ]
  },
  {
   "cell_type": "code",
   "execution_count": 1,
   "id": "super-schedule",
   "metadata": {},
   "outputs": [],
   "source": [
    "from pathlib import Path\n",
    "\n",
    "import pandas as pd\n",
    "import matplotlib.pyplot as plt\n",
    "\n",
    "%matplotlib inline"
   ]
  },
  {
   "cell_type": "code",
   "execution_count": 2,
   "id": "higher-cancer",
   "metadata": {},
   "outputs": [],
   "source": [
    "path = Path('../data_orig')\n",
    "# path = Path('ds_cup/orig_data')\n",
    "train_df = pd.read_csv(path/'train.csv')\n",
    "valid_df = pd.read_csv(path/'valid.csv')\n",
    "test_df = pd.read_csv(path/'test.csv')"
   ]
  },
  {
   "cell_type": "markdown",
   "id": "knowing-endorsement",
   "metadata": {},
   "source": [
    "## Distribution of target values"
   ]
  },
  {
   "cell_type": "code",
   "execution_count": 3,
   "id": "possible-cholesterol",
   "metadata": {},
   "outputs": [],
   "source": [
    "def print_size(df, name):\n",
    "    counts = df['Default_ind'].value_counts()\n",
    "    print(f'{name} dataset')\n",
    "    print(f'Num 0 values = {counts[0]}')\n",
    "    print(f'Num 1 values = {counts[1]}')\n",
    "    print()"
   ]
  },
  {
   "cell_type": "code",
   "execution_count": 4,
   "id": "advised-diana",
   "metadata": {},
   "outputs": [
    {
     "name": "stdout",
     "output_type": "stream",
     "text": [
      "train dataset\n",
      "Num 0 values = 18414\n",
      "Num 1 values = 1586\n",
      "\n",
      "valid dataset\n",
      "Num 0 values = 2778\n",
      "Num 1 values = 222\n",
      "\n",
      "test dataset\n",
      "Num 0 values = 4599\n",
      "Num 1 values = 401\n",
      "\n"
     ]
    }
   ],
   "source": [
    "print_size(train_df, 'train')\n",
    "print_size(valid_df, 'valid')\n",
    "print_size(test_df, 'test')"
   ]
  },
  {
   "cell_type": "markdown",
   "id": "dramatic-genesis",
   "metadata": {},
   "source": [
    "## Missing data\n",
    "Check how many missing values are there in train, valid, test"
   ]
  },
  {
   "cell_type": "code",
   "execution_count": 5,
   "id": "native-right",
   "metadata": {},
   "outputs": [
    {
     "data": {
      "text/plain": [
       "tot_credit_debt                          0\n",
       "avg_card_debt                            0\n",
       "credit_age                               0\n",
       "credit_good_age                          0\n",
       "card_age                                 0\n",
       "non_mtg_acc_past_due_12_months_num       0\n",
       "non_mtg_acc_past_due_6_months_num        0\n",
       "mortgages_past_due_6_months_num          0\n",
       "credit_past_due_amount                   0\n",
       "inq_12_month_num                         0\n",
       "card_inq_24_month_num                    0\n",
       "card_open_36_month_num                   0\n",
       "auto_open_ 36_month_num                  0\n",
       "uti_card                                 0\n",
       "uti_50plus_pct                           0\n",
       "uti_max_credit_line                      0\n",
       "uti_card_50plus_pct                   2055\n",
       "ind_acc_XYZ                              0\n",
       "rep_income                            1570\n",
       "States                                   0\n",
       "Default_ind                              0\n",
       "dtype: int64"
      ]
     },
     "execution_count": 5,
     "metadata": {},
     "output_type": "execute_result"
    }
   ],
   "source": [
    "train_df.isnull().sum()"
   ]
  },
  {
   "cell_type": "code",
   "execution_count": 6,
   "id": "accessory-saying",
   "metadata": {},
   "outputs": [
    {
     "data": {
      "text/plain": [
       "tot_credit_debt                         0\n",
       "avg_card_debt                           0\n",
       "credit_age                              0\n",
       "credit_good_age                         0\n",
       "card_age                                0\n",
       "non_mtg_acc_past_due_12_months_num      0\n",
       "non_mtg_acc_past_due_6_months_num       0\n",
       "mortgages_past_due_6_months_num         0\n",
       "credit_past_due_amount                  0\n",
       "inq_12_month_num                        0\n",
       "card_inq_24_month_num                   0\n",
       "card_open_36_month_num                  0\n",
       "auto_open_ 36_month_num                 0\n",
       "uti_card                                0\n",
       "uti_50plus_pct                          0\n",
       "uti_max_credit_line                     0\n",
       "uti_card_50plus_pct                   297\n",
       "ind_acc_XYZ                             0\n",
       "rep_income                            253\n",
       "States                                  0\n",
       "Default_ind                             0\n",
       "dtype: int64"
      ]
     },
     "execution_count": 6,
     "metadata": {},
     "output_type": "execute_result"
    }
   ],
   "source": [
    "valid_df.isnull().sum()"
   ]
  },
  {
   "cell_type": "code",
   "execution_count": 7,
   "id": "located-fundamental",
   "metadata": {},
   "outputs": [
    {
     "data": {
      "text/plain": [
       "tot_credit_debt                         0\n",
       "avg_card_debt                           0\n",
       "credit_age                              0\n",
       "credit_good_age                         0\n",
       "card_age                                0\n",
       "non_mtg_acc_past_due_12_months_num      0\n",
       "non_mtg_acc_past_due_6_months_num       0\n",
       "mortgages_past_due_6_months_num         0\n",
       "credit_past_due_amount                  0\n",
       "inq_12_month_num                        0\n",
       "card_inq_24_month_num                   0\n",
       "card_open_36_month_num                  0\n",
       "auto_open_ 36_month_num                 0\n",
       "uti_card                                0\n",
       "uti_50plus_pct                          0\n",
       "uti_max_credit_line                     0\n",
       "uti_card_50plus_pct                   499\n",
       "ind_acc_XYZ                             0\n",
       "rep_income                            383\n",
       "States                                  0\n",
       "Default_ind                             0\n",
       "dtype: int64"
      ]
     },
     "execution_count": 7,
     "metadata": {},
     "output_type": "execute_result"
    }
   ],
   "source": [
    "test_df.isnull().sum()"
   ]
  },
  {
   "cell_type": "markdown",
   "id": "lined-exhibition",
   "metadata": {},
   "source": [
    "So only two columns contain missing data `uti_card_50plus_pct` and `rep_income`. Checking on these columns, for why the data is missing.\n",
    "- `uti_card_50plus_pct`: Percentage of open credit cards with over 50% utilitzation.\n",
    "    \n",
    "    My understanding is the person does not have a credit card. Thus the missing value. To handle the missing value, I would add a new column of 0 (no missing value) and 1 (missing value) as it might be important information. For the missing value, I replace it with 0."
   ]
  },
  {
   "cell_type": "code",
   "execution_count": 8,
   "id": "minute-teach",
   "metadata": {},
   "outputs": [],
   "source": [
    "# Create new col and replace missing value with 0 in `uti_card_50plus_pct`\n",
    "def handle_col_uti_card_50plus_pct(df):\n",
    "    # Add new col\n",
    "    df['uti_card_50plus_pct_missing'] = (df['uti_card_50plus_pct'].isnull()).astype(int)\n",
    "    \n",
    "    # Replace missing value with 0\n",
    "    df['uti_card_50plus_pct'] = df['uti_card_50plus_pct'].fillna(0)\n",
    "    return df"
   ]
  },
  {
   "cell_type": "code",
   "execution_count": 9,
   "id": "curious-conjunction",
   "metadata": {},
   "outputs": [],
   "source": [
    "train_df = handle_col_uti_card_50plus_pct(train_df)\n",
    "valid_df = handle_col_uti_card_50plus_pct(valid_df)\n",
    "test_df  = handle_col_uti_card_50plus_pct(test_df)"
   ]
  },
  {
   "cell_type": "markdown",
   "id": "central-cheese",
   "metadata": {},
   "source": [
    "- `rep_income`: annual income (self-reported by applicant and not verified)\n",
    "\n",
    "    The reason for missing is obvious. I don't know what we should replace the missing value with. The reason a person may not report his annual income might be he is lazy or is it too low to get a loan. I will still add a column for a missing value 0 (no missing value) and 1 (missing value).\n",
    "    \n",
    "    I don't think filling it with 0 makes sense, so I use mean instead."
   ]
  },
  {
   "cell_type": "code",
   "execution_count": 10,
   "id": "split-nerve",
   "metadata": {},
   "outputs": [],
   "source": [
    "mean_rep_income = train_df['rep_income'].mean()\n",
    "\n",
    "def handle_col_rep_income(df):\n",
    "    # Add new col\n",
    "    df['rep_income_missing'] = (df['rep_income'].isnull().astype(int))\n",
    "    \n",
    "    # Replace missing value with mean_rep_income\n",
    "    df['rep_income'] = df['rep_income'].fillna(mean_rep_income)\n",
    "    return df"
   ]
  },
  {
   "cell_type": "code",
   "execution_count": 11,
   "id": "neural-monday",
   "metadata": {},
   "outputs": [],
   "source": [
    "train_df = handle_col_rep_income(train_df)\n",
    "valid_df = handle_col_rep_income(valid_df)\n",
    "test_df  = handle_col_rep_income(test_df)"
   ]
  },
  {
   "cell_type": "markdown",
   "id": "ideal-clark",
   "metadata": {},
   "source": [
    "Check one last time for missing values."
   ]
  },
  {
   "cell_type": "code",
   "execution_count": 12,
   "id": "auburn-memory",
   "metadata": {},
   "outputs": [
    {
     "data": {
      "text/plain": [
       "tot_credit_debt                       0\n",
       "avg_card_debt                         0\n",
       "credit_age                            0\n",
       "credit_good_age                       0\n",
       "card_age                              0\n",
       "non_mtg_acc_past_due_12_months_num    0\n",
       "non_mtg_acc_past_due_6_months_num     0\n",
       "mortgages_past_due_6_months_num       0\n",
       "credit_past_due_amount                0\n",
       "inq_12_month_num                      0\n",
       "card_inq_24_month_num                 0\n",
       "card_open_36_month_num                0\n",
       "auto_open_ 36_month_num               0\n",
       "uti_card                              0\n",
       "uti_50plus_pct                        0\n",
       "uti_max_credit_line                   0\n",
       "uti_card_50plus_pct                   0\n",
       "ind_acc_XYZ                           0\n",
       "rep_income                            0\n",
       "States                                0\n",
       "Default_ind                           0\n",
       "uti_card_50plus_pct_missing           0\n",
       "rep_income_missing                    0\n",
       "dtype: int64"
      ]
     },
     "execution_count": 12,
     "metadata": {},
     "output_type": "execute_result"
    }
   ],
   "source": [
    "train_df.isnull().sum()"
   ]
  },
  {
   "cell_type": "code",
   "execution_count": 13,
   "id": "exempt-humor",
   "metadata": {},
   "outputs": [
    {
     "data": {
      "text/plain": [
       "tot_credit_debt                       0\n",
       "avg_card_debt                         0\n",
       "credit_age                            0\n",
       "credit_good_age                       0\n",
       "card_age                              0\n",
       "non_mtg_acc_past_due_12_months_num    0\n",
       "non_mtg_acc_past_due_6_months_num     0\n",
       "mortgages_past_due_6_months_num       0\n",
       "credit_past_due_amount                0\n",
       "inq_12_month_num                      0\n",
       "card_inq_24_month_num                 0\n",
       "card_open_36_month_num                0\n",
       "auto_open_ 36_month_num               0\n",
       "uti_card                              0\n",
       "uti_50plus_pct                        0\n",
       "uti_max_credit_line                   0\n",
       "uti_card_50plus_pct                   0\n",
       "ind_acc_XYZ                           0\n",
       "rep_income                            0\n",
       "States                                0\n",
       "Default_ind                           0\n",
       "uti_card_50plus_pct_missing           0\n",
       "rep_income_missing                    0\n",
       "dtype: int64"
      ]
     },
     "execution_count": 13,
     "metadata": {},
     "output_type": "execute_result"
    }
   ],
   "source": [
    "valid_df.isnull().sum()"
   ]
  },
  {
   "cell_type": "code",
   "execution_count": 14,
   "id": "liquid-veteran",
   "metadata": {},
   "outputs": [
    {
     "data": {
      "text/plain": [
       "tot_credit_debt                       0\n",
       "avg_card_debt                         0\n",
       "credit_age                            0\n",
       "credit_good_age                       0\n",
       "card_age                              0\n",
       "non_mtg_acc_past_due_12_months_num    0\n",
       "non_mtg_acc_past_due_6_months_num     0\n",
       "mortgages_past_due_6_months_num       0\n",
       "credit_past_due_amount                0\n",
       "inq_12_month_num                      0\n",
       "card_inq_24_month_num                 0\n",
       "card_open_36_month_num                0\n",
       "auto_open_ 36_month_num               0\n",
       "uti_card                              0\n",
       "uti_50plus_pct                        0\n",
       "uti_max_credit_line                   0\n",
       "uti_card_50plus_pct                   0\n",
       "ind_acc_XYZ                           0\n",
       "rep_income                            0\n",
       "States                                0\n",
       "Default_ind                           0\n",
       "uti_card_50plus_pct_missing           0\n",
       "rep_income_missing                    0\n",
       "dtype: int64"
      ]
     },
     "execution_count": 14,
     "metadata": {},
     "output_type": "execute_result"
    }
   ],
   "source": [
    "test_df.isnull().sum()"
   ]
  },
  {
   "cell_type": "markdown",
   "id": "religious-inventory",
   "metadata": {},
   "source": [
    "## Get important statistics\n",
    "max, min, std and all things like that."
   ]
  },
  {
   "cell_type": "code",
   "execution_count": 15,
   "id": "defensive-isolation",
   "metadata": {},
   "outputs": [
    {
     "data": {
      "text/html": [
       "<div>\n",
       "<style scoped>\n",
       "    .dataframe tbody tr th:only-of-type {\n",
       "        vertical-align: middle;\n",
       "    }\n",
       "\n",
       "    .dataframe tbody tr th {\n",
       "        vertical-align: top;\n",
       "    }\n",
       "\n",
       "    .dataframe thead th {\n",
       "        text-align: right;\n",
       "    }\n",
       "</style>\n",
       "<table border=\"1\" class=\"dataframe\">\n",
       "  <thead>\n",
       "    <tr style=\"text-align: right;\">\n",
       "      <th></th>\n",
       "      <th>count</th>\n",
       "      <th>unique</th>\n",
       "      <th>top</th>\n",
       "      <th>freq</th>\n",
       "      <th>mean</th>\n",
       "      <th>std</th>\n",
       "      <th>min</th>\n",
       "      <th>25%</th>\n",
       "      <th>50%</th>\n",
       "      <th>75%</th>\n",
       "      <th>max</th>\n",
       "    </tr>\n",
       "  </thead>\n",
       "  <tbody>\n",
       "    <tr>\n",
       "      <th>tot_credit_debt</th>\n",
       "      <td>20000.0</td>\n",
       "      <td>NaN</td>\n",
       "      <td>NaN</td>\n",
       "      <td>NaN</td>\n",
       "      <td>94563.702530</td>\n",
       "      <td>23546.443862</td>\n",
       "      <td>2367.430000</td>\n",
       "      <td>78743.750000</td>\n",
       "      <td>94670.630000</td>\n",
       "      <td>110329.335000</td>\n",
       "      <td>188890.960000</td>\n",
       "    </tr>\n",
       "    <tr>\n",
       "      <th>avg_card_debt</th>\n",
       "      <td>20000.0</td>\n",
       "      <td>NaN</td>\n",
       "      <td>NaN</td>\n",
       "      <td>NaN</td>\n",
       "      <td>14088.235475</td>\n",
       "      <td>9314.495936</td>\n",
       "      <td>2363.120000</td>\n",
       "      <td>11321.502500</td>\n",
       "      <td>13243.750000</td>\n",
       "      <td>15196.060000</td>\n",
       "      <td>99999.000000</td>\n",
       "    </tr>\n",
       "    <tr>\n",
       "      <th>credit_age</th>\n",
       "      <td>20000.0</td>\n",
       "      <td>NaN</td>\n",
       "      <td>NaN</td>\n",
       "      <td>NaN</td>\n",
       "      <td>296.697000</td>\n",
       "      <td>61.711702</td>\n",
       "      <td>54.000000</td>\n",
       "      <td>255.000000</td>\n",
       "      <td>297.000000</td>\n",
       "      <td>339.000000</td>\n",
       "      <td>545.000000</td>\n",
       "    </tr>\n",
       "    <tr>\n",
       "      <th>credit_good_age</th>\n",
       "      <td>20000.0</td>\n",
       "      <td>NaN</td>\n",
       "      <td>NaN</td>\n",
       "      <td>NaN</td>\n",
       "      <td>149.771750</td>\n",
       "      <td>34.016476</td>\n",
       "      <td>21.000000</td>\n",
       "      <td>127.000000</td>\n",
       "      <td>150.000000</td>\n",
       "      <td>172.000000</td>\n",
       "      <td>296.000000</td>\n",
       "    </tr>\n",
       "    <tr>\n",
       "      <th>card_age</th>\n",
       "      <td>20000.0</td>\n",
       "      <td>NaN</td>\n",
       "      <td>NaN</td>\n",
       "      <td>NaN</td>\n",
       "      <td>268.015200</td>\n",
       "      <td>59.364769</td>\n",
       "      <td>41.000000</td>\n",
       "      <td>227.000000</td>\n",
       "      <td>268.000000</td>\n",
       "      <td>308.000000</td>\n",
       "      <td>520.000000</td>\n",
       "    </tr>\n",
       "    <tr>\n",
       "      <th>non_mtg_acc_past_due_12_months_num</th>\n",
       "      <td>20000.0</td>\n",
       "      <td>NaN</td>\n",
       "      <td>NaN</td>\n",
       "      <td>NaN</td>\n",
       "      <td>0.111350</td>\n",
       "      <td>0.433890</td>\n",
       "      <td>0.000000</td>\n",
       "      <td>0.000000</td>\n",
       "      <td>0.000000</td>\n",
       "      <td>0.000000</td>\n",
       "      <td>4.000000</td>\n",
       "    </tr>\n",
       "    <tr>\n",
       "      <th>non_mtg_acc_past_due_6_months_num</th>\n",
       "      <td>20000.0</td>\n",
       "      <td>NaN</td>\n",
       "      <td>NaN</td>\n",
       "      <td>NaN</td>\n",
       "      <td>0.027400</td>\n",
       "      <td>0.171903</td>\n",
       "      <td>0.000000</td>\n",
       "      <td>0.000000</td>\n",
       "      <td>0.000000</td>\n",
       "      <td>0.000000</td>\n",
       "      <td>2.000000</td>\n",
       "    </tr>\n",
       "    <tr>\n",
       "      <th>mortgages_past_due_6_months_num</th>\n",
       "      <td>20000.0</td>\n",
       "      <td>NaN</td>\n",
       "      <td>NaN</td>\n",
       "      <td>NaN</td>\n",
       "      <td>0.030200</td>\n",
       "      <td>0.171142</td>\n",
       "      <td>0.000000</td>\n",
       "      <td>0.000000</td>\n",
       "      <td>0.000000</td>\n",
       "      <td>0.000000</td>\n",
       "      <td>1.000000</td>\n",
       "    </tr>\n",
       "    <tr>\n",
       "      <th>credit_past_due_amount</th>\n",
       "      <td>20000.0</td>\n",
       "      <td>NaN</td>\n",
       "      <td>NaN</td>\n",
       "      <td>NaN</td>\n",
       "      <td>329.287867</td>\n",
       "      <td>2073.899357</td>\n",
       "      <td>0.000000</td>\n",
       "      <td>0.000000</td>\n",
       "      <td>0.000000</td>\n",
       "      <td>0.000000</td>\n",
       "      <td>32662.980000</td>\n",
       "    </tr>\n",
       "    <tr>\n",
       "      <th>inq_12_month_num</th>\n",
       "      <td>20000.0</td>\n",
       "      <td>NaN</td>\n",
       "      <td>NaN</td>\n",
       "      <td>NaN</td>\n",
       "      <td>1.762700</td>\n",
       "      <td>1.740816</td>\n",
       "      <td>0.000000</td>\n",
       "      <td>0.000000</td>\n",
       "      <td>1.000000</td>\n",
       "      <td>3.000000</td>\n",
       "      <td>10.000000</td>\n",
       "    </tr>\n",
       "    <tr>\n",
       "      <th>card_inq_24_month_num</th>\n",
       "      <td>20000.0</td>\n",
       "      <td>NaN</td>\n",
       "      <td>NaN</td>\n",
       "      <td>NaN</td>\n",
       "      <td>3.409600</td>\n",
       "      <td>2.926697</td>\n",
       "      <td>0.000000</td>\n",
       "      <td>1.000000</td>\n",
       "      <td>3.000000</td>\n",
       "      <td>5.000000</td>\n",
       "      <td>18.000000</td>\n",
       "    </tr>\n",
       "    <tr>\n",
       "      <th>card_open_36_month_num</th>\n",
       "      <td>20000.0</td>\n",
       "      <td>NaN</td>\n",
       "      <td>NaN</td>\n",
       "      <td>NaN</td>\n",
       "      <td>0.163050</td>\n",
       "      <td>0.386099</td>\n",
       "      <td>0.000000</td>\n",
       "      <td>0.000000</td>\n",
       "      <td>0.000000</td>\n",
       "      <td>0.000000</td>\n",
       "      <td>2.000000</td>\n",
       "    </tr>\n",
       "    <tr>\n",
       "      <th>auto_open_ 36_month_num</th>\n",
       "      <td>20000.0</td>\n",
       "      <td>NaN</td>\n",
       "      <td>NaN</td>\n",
       "      <td>NaN</td>\n",
       "      <td>0.141000</td>\n",
       "      <td>0.349607</td>\n",
       "      <td>0.000000</td>\n",
       "      <td>0.000000</td>\n",
       "      <td>0.000000</td>\n",
       "      <td>0.000000</td>\n",
       "      <td>2.000000</td>\n",
       "    </tr>\n",
       "    <tr>\n",
       "      <th>uti_card</th>\n",
       "      <td>20000.0</td>\n",
       "      <td>NaN</td>\n",
       "      <td>NaN</td>\n",
       "      <td>NaN</td>\n",
       "      <td>0.503157</td>\n",
       "      <td>0.109354</td>\n",
       "      <td>0.065120</td>\n",
       "      <td>0.429611</td>\n",
       "      <td>0.502800</td>\n",
       "      <td>0.577412</td>\n",
       "      <td>0.969289</td>\n",
       "    </tr>\n",
       "    <tr>\n",
       "      <th>uti_50plus_pct</th>\n",
       "      <td>20000.0</td>\n",
       "      <td>NaN</td>\n",
       "      <td>NaN</td>\n",
       "      <td>NaN</td>\n",
       "      <td>0.511007</td>\n",
       "      <td>0.113456</td>\n",
       "      <td>0.033749</td>\n",
       "      <td>0.435171</td>\n",
       "      <td>0.509922</td>\n",
       "      <td>0.588418</td>\n",
       "      <td>0.988964</td>\n",
       "    </tr>\n",
       "    <tr>\n",
       "      <th>uti_max_credit_line</th>\n",
       "      <td>20000.0</td>\n",
       "      <td>NaN</td>\n",
       "      <td>NaN</td>\n",
       "      <td>NaN</td>\n",
       "      <td>0.507629</td>\n",
       "      <td>0.108624</td>\n",
       "      <td>0.005174</td>\n",
       "      <td>0.433550</td>\n",
       "      <td>0.507193</td>\n",
       "      <td>0.581376</td>\n",
       "      <td>1.000000</td>\n",
       "    </tr>\n",
       "    <tr>\n",
       "      <th>uti_card_50plus_pct</th>\n",
       "      <td>20000.0</td>\n",
       "      <td>NaN</td>\n",
       "      <td>NaN</td>\n",
       "      <td>NaN</td>\n",
       "      <td>0.439288</td>\n",
       "      <td>0.186965</td>\n",
       "      <td>0.000000</td>\n",
       "      <td>0.373510</td>\n",
       "      <td>0.472616</td>\n",
       "      <td>0.559133</td>\n",
       "      <td>0.970776</td>\n",
       "    </tr>\n",
       "    <tr>\n",
       "      <th>ind_acc_XYZ</th>\n",
       "      <td>20000.0</td>\n",
       "      <td>NaN</td>\n",
       "      <td>NaN</td>\n",
       "      <td>NaN</td>\n",
       "      <td>0.258550</td>\n",
       "      <td>0.437849</td>\n",
       "      <td>0.000000</td>\n",
       "      <td>0.000000</td>\n",
       "      <td>0.000000</td>\n",
       "      <td>1.000000</td>\n",
       "      <td>1.000000</td>\n",
       "    </tr>\n",
       "    <tr>\n",
       "      <th>rep_income</th>\n",
       "      <td>20000.0</td>\n",
       "      <td>NaN</td>\n",
       "      <td>NaN</td>\n",
       "      <td>NaN</td>\n",
       "      <td>75499.511666</td>\n",
       "      <td>15706.591280</td>\n",
       "      <td>12000.000000</td>\n",
       "      <td>65000.000000</td>\n",
       "      <td>75499.511666</td>\n",
       "      <td>85000.000000</td>\n",
       "      <td>150000.000000</td>\n",
       "    </tr>\n",
       "    <tr>\n",
       "      <th>States</th>\n",
       "      <td>20000</td>\n",
       "      <td>7</td>\n",
       "      <td>NC</td>\n",
       "      <td>2898</td>\n",
       "      <td>NaN</td>\n",
       "      <td>NaN</td>\n",
       "      <td>NaN</td>\n",
       "      <td>NaN</td>\n",
       "      <td>NaN</td>\n",
       "      <td>NaN</td>\n",
       "      <td>NaN</td>\n",
       "    </tr>\n",
       "    <tr>\n",
       "      <th>Default_ind</th>\n",
       "      <td>20000.0</td>\n",
       "      <td>NaN</td>\n",
       "      <td>NaN</td>\n",
       "      <td>NaN</td>\n",
       "      <td>0.079300</td>\n",
       "      <td>0.270213</td>\n",
       "      <td>0.000000</td>\n",
       "      <td>0.000000</td>\n",
       "      <td>0.000000</td>\n",
       "      <td>0.000000</td>\n",
       "      <td>1.000000</td>\n",
       "    </tr>\n",
       "    <tr>\n",
       "      <th>uti_card_50plus_pct_missing</th>\n",
       "      <td>20000.0</td>\n",
       "      <td>NaN</td>\n",
       "      <td>NaN</td>\n",
       "      <td>NaN</td>\n",
       "      <td>0.102750</td>\n",
       "      <td>0.303640</td>\n",
       "      <td>0.000000</td>\n",
       "      <td>0.000000</td>\n",
       "      <td>0.000000</td>\n",
       "      <td>0.000000</td>\n",
       "      <td>1.000000</td>\n",
       "    </tr>\n",
       "    <tr>\n",
       "      <th>rep_income_missing</th>\n",
       "      <td>20000.0</td>\n",
       "      <td>NaN</td>\n",
       "      <td>NaN</td>\n",
       "      <td>NaN</td>\n",
       "      <td>0.078500</td>\n",
       "      <td>0.268964</td>\n",
       "      <td>0.000000</td>\n",
       "      <td>0.000000</td>\n",
       "      <td>0.000000</td>\n",
       "      <td>0.000000</td>\n",
       "      <td>1.000000</td>\n",
       "    </tr>\n",
       "  </tbody>\n",
       "</table>\n",
       "</div>"
      ],
      "text/plain": [
       "                                      count unique  top  freq          mean  \\\n",
       "tot_credit_debt                     20000.0    NaN  NaN   NaN  94563.702530   \n",
       "avg_card_debt                       20000.0    NaN  NaN   NaN  14088.235475   \n",
       "credit_age                          20000.0    NaN  NaN   NaN    296.697000   \n",
       "credit_good_age                     20000.0    NaN  NaN   NaN    149.771750   \n",
       "card_age                            20000.0    NaN  NaN   NaN    268.015200   \n",
       "non_mtg_acc_past_due_12_months_num  20000.0    NaN  NaN   NaN      0.111350   \n",
       "non_mtg_acc_past_due_6_months_num   20000.0    NaN  NaN   NaN      0.027400   \n",
       "mortgages_past_due_6_months_num     20000.0    NaN  NaN   NaN      0.030200   \n",
       "credit_past_due_amount              20000.0    NaN  NaN   NaN    329.287867   \n",
       "inq_12_month_num                    20000.0    NaN  NaN   NaN      1.762700   \n",
       "card_inq_24_month_num               20000.0    NaN  NaN   NaN      3.409600   \n",
       "card_open_36_month_num              20000.0    NaN  NaN   NaN      0.163050   \n",
       "auto_open_ 36_month_num             20000.0    NaN  NaN   NaN      0.141000   \n",
       "uti_card                            20000.0    NaN  NaN   NaN      0.503157   \n",
       "uti_50plus_pct                      20000.0    NaN  NaN   NaN      0.511007   \n",
       "uti_max_credit_line                 20000.0    NaN  NaN   NaN      0.507629   \n",
       "uti_card_50plus_pct                 20000.0    NaN  NaN   NaN      0.439288   \n",
       "ind_acc_XYZ                         20000.0    NaN  NaN   NaN      0.258550   \n",
       "rep_income                          20000.0    NaN  NaN   NaN  75499.511666   \n",
       "States                                20000      7   NC  2898           NaN   \n",
       "Default_ind                         20000.0    NaN  NaN   NaN      0.079300   \n",
       "uti_card_50plus_pct_missing         20000.0    NaN  NaN   NaN      0.102750   \n",
       "rep_income_missing                  20000.0    NaN  NaN   NaN      0.078500   \n",
       "\n",
       "                                             std           min           25%  \\\n",
       "tot_credit_debt                     23546.443862   2367.430000  78743.750000   \n",
       "avg_card_debt                        9314.495936   2363.120000  11321.502500   \n",
       "credit_age                             61.711702     54.000000    255.000000   \n",
       "credit_good_age                        34.016476     21.000000    127.000000   \n",
       "card_age                               59.364769     41.000000    227.000000   \n",
       "non_mtg_acc_past_due_12_months_num      0.433890      0.000000      0.000000   \n",
       "non_mtg_acc_past_due_6_months_num       0.171903      0.000000      0.000000   \n",
       "mortgages_past_due_6_months_num         0.171142      0.000000      0.000000   \n",
       "credit_past_due_amount               2073.899357      0.000000      0.000000   \n",
       "inq_12_month_num                        1.740816      0.000000      0.000000   \n",
       "card_inq_24_month_num                   2.926697      0.000000      1.000000   \n",
       "card_open_36_month_num                  0.386099      0.000000      0.000000   \n",
       "auto_open_ 36_month_num                 0.349607      0.000000      0.000000   \n",
       "uti_card                                0.109354      0.065120      0.429611   \n",
       "uti_50plus_pct                          0.113456      0.033749      0.435171   \n",
       "uti_max_credit_line                     0.108624      0.005174      0.433550   \n",
       "uti_card_50plus_pct                     0.186965      0.000000      0.373510   \n",
       "ind_acc_XYZ                             0.437849      0.000000      0.000000   \n",
       "rep_income                          15706.591280  12000.000000  65000.000000   \n",
       "States                                       NaN           NaN           NaN   \n",
       "Default_ind                             0.270213      0.000000      0.000000   \n",
       "uti_card_50plus_pct_missing             0.303640      0.000000      0.000000   \n",
       "rep_income_missing                      0.268964      0.000000      0.000000   \n",
       "\n",
       "                                             50%            75%            max  \n",
       "tot_credit_debt                     94670.630000  110329.335000  188890.960000  \n",
       "avg_card_debt                       13243.750000   15196.060000   99999.000000  \n",
       "credit_age                            297.000000     339.000000     545.000000  \n",
       "credit_good_age                       150.000000     172.000000     296.000000  \n",
       "card_age                              268.000000     308.000000     520.000000  \n",
       "non_mtg_acc_past_due_12_months_num      0.000000       0.000000       4.000000  \n",
       "non_mtg_acc_past_due_6_months_num       0.000000       0.000000       2.000000  \n",
       "mortgages_past_due_6_months_num         0.000000       0.000000       1.000000  \n",
       "credit_past_due_amount                  0.000000       0.000000   32662.980000  \n",
       "inq_12_month_num                        1.000000       3.000000      10.000000  \n",
       "card_inq_24_month_num                   3.000000       5.000000      18.000000  \n",
       "card_open_36_month_num                  0.000000       0.000000       2.000000  \n",
       "auto_open_ 36_month_num                 0.000000       0.000000       2.000000  \n",
       "uti_card                                0.502800       0.577412       0.969289  \n",
       "uti_50plus_pct                          0.509922       0.588418       0.988964  \n",
       "uti_max_credit_line                     0.507193       0.581376       1.000000  \n",
       "uti_card_50plus_pct                     0.472616       0.559133       0.970776  \n",
       "ind_acc_XYZ                             0.000000       1.000000       1.000000  \n",
       "rep_income                          75499.511666   85000.000000  150000.000000  \n",
       "States                                       NaN            NaN            NaN  \n",
       "Default_ind                             0.000000       0.000000       1.000000  \n",
       "uti_card_50plus_pct_missing             0.000000       0.000000       1.000000  \n",
       "rep_income_missing                      0.000000       0.000000       1.000000  "
      ]
     },
     "execution_count": 15,
     "metadata": {},
     "output_type": "execute_result"
    }
   ],
   "source": [
    "train_df.describe(include='all').T"
   ]
  },
  {
   "cell_type": "markdown",
   "id": "toxic-kansas",
   "metadata": {},
   "source": [
    "So there is only one categorical column `States` with only 7 unique values. You can also count the missing columns we added as categorical but I don't know it that matters (as an integer column with value 0 and 1 can still represent a categorical value of 2 unique values)."
   ]
  },
  {
   "cell_type": "code",
   "execution_count": 16,
   "id": "compact-guard",
   "metadata": {},
   "outputs": [
    {
     "data": {
      "text/html": [
       "<div>\n",
       "<style scoped>\n",
       "    .dataframe tbody tr th:only-of-type {\n",
       "        vertical-align: middle;\n",
       "    }\n",
       "\n",
       "    .dataframe tbody tr th {\n",
       "        vertical-align: top;\n",
       "    }\n",
       "\n",
       "    .dataframe thead th {\n",
       "        text-align: right;\n",
       "    }\n",
       "</style>\n",
       "<table border=\"1\" class=\"dataframe\">\n",
       "  <thead>\n",
       "    <tr style=\"text-align: right;\">\n",
       "      <th></th>\n",
       "      <th>count</th>\n",
       "      <th>mean</th>\n",
       "      <th>std</th>\n",
       "      <th>min</th>\n",
       "      <th>25%</th>\n",
       "      <th>50%</th>\n",
       "      <th>75%</th>\n",
       "      <th>max</th>\n",
       "    </tr>\n",
       "  </thead>\n",
       "  <tbody>\n",
       "    <tr>\n",
       "      <th>tot_credit_debt</th>\n",
       "      <td>3000.0</td>\n",
       "      <td>89348.951453</td>\n",
       "      <td>20797.518015</td>\n",
       "      <td>13137.290000</td>\n",
       "      <td>75621.240000</td>\n",
       "      <td>88874.545000</td>\n",
       "      <td>103651.667500</td>\n",
       "      <td>170237.010000</td>\n",
       "    </tr>\n",
       "    <tr>\n",
       "      <th>avg_card_debt</th>\n",
       "      <td>3000.0</td>\n",
       "      <td>13530.926413</td>\n",
       "      <td>9078.847705</td>\n",
       "      <td>2910.570000</td>\n",
       "      <td>10883.795000</td>\n",
       "      <td>12755.865000</td>\n",
       "      <td>14601.647500</td>\n",
       "      <td>99999.000000</td>\n",
       "    </tr>\n",
       "    <tr>\n",
       "      <th>credit_age</th>\n",
       "      <td>3000.0</td>\n",
       "      <td>283.314667</td>\n",
       "      <td>62.777783</td>\n",
       "      <td>81.000000</td>\n",
       "      <td>241.000000</td>\n",
       "      <td>282.000000</td>\n",
       "      <td>325.000000</td>\n",
       "      <td>507.000000</td>\n",
       "    </tr>\n",
       "    <tr>\n",
       "      <th>credit_good_age</th>\n",
       "      <td>3000.0</td>\n",
       "      <td>147.482333</td>\n",
       "      <td>30.745484</td>\n",
       "      <td>24.000000</td>\n",
       "      <td>127.000000</td>\n",
       "      <td>147.000000</td>\n",
       "      <td>169.000000</td>\n",
       "      <td>253.000000</td>\n",
       "    </tr>\n",
       "    <tr>\n",
       "      <th>card_age</th>\n",
       "      <td>3000.0</td>\n",
       "      <td>253.234333</td>\n",
       "      <td>62.584314</td>\n",
       "      <td>76.000000</td>\n",
       "      <td>210.000000</td>\n",
       "      <td>251.000000</td>\n",
       "      <td>296.000000</td>\n",
       "      <td>479.000000</td>\n",
       "    </tr>\n",
       "    <tr>\n",
       "      <th>non_mtg_acc_past_due_12_months_num</th>\n",
       "      <td>3000.0</td>\n",
       "      <td>0.129000</td>\n",
       "      <td>0.480037</td>\n",
       "      <td>0.000000</td>\n",
       "      <td>0.000000</td>\n",
       "      <td>0.000000</td>\n",
       "      <td>0.000000</td>\n",
       "      <td>4.000000</td>\n",
       "    </tr>\n",
       "    <tr>\n",
       "      <th>non_mtg_acc_past_due_6_months_num</th>\n",
       "      <td>3000.0</td>\n",
       "      <td>0.032333</td>\n",
       "      <td>0.180644</td>\n",
       "      <td>0.000000</td>\n",
       "      <td>0.000000</td>\n",
       "      <td>0.000000</td>\n",
       "      <td>0.000000</td>\n",
       "      <td>2.000000</td>\n",
       "    </tr>\n",
       "    <tr>\n",
       "      <th>mortgages_past_due_6_months_num</th>\n",
       "      <td>3000.0</td>\n",
       "      <td>0.034667</td>\n",
       "      <td>0.182965</td>\n",
       "      <td>0.000000</td>\n",
       "      <td>0.000000</td>\n",
       "      <td>0.000000</td>\n",
       "      <td>0.000000</td>\n",
       "      <td>1.000000</td>\n",
       "    </tr>\n",
       "    <tr>\n",
       "      <th>credit_past_due_amount</th>\n",
       "      <td>3000.0</td>\n",
       "      <td>336.234333</td>\n",
       "      <td>1980.800293</td>\n",
       "      <td>0.000000</td>\n",
       "      <td>0.000000</td>\n",
       "      <td>0.000000</td>\n",
       "      <td>0.000000</td>\n",
       "      <td>20095.430000</td>\n",
       "    </tr>\n",
       "    <tr>\n",
       "      <th>inq_12_month_num</th>\n",
       "      <td>3000.0</td>\n",
       "      <td>0.831667</td>\n",
       "      <td>1.356937</td>\n",
       "      <td>0.000000</td>\n",
       "      <td>0.000000</td>\n",
       "      <td>0.000000</td>\n",
       "      <td>1.000000</td>\n",
       "      <td>8.000000</td>\n",
       "    </tr>\n",
       "    <tr>\n",
       "      <th>card_inq_24_month_num</th>\n",
       "      <td>3000.0</td>\n",
       "      <td>1.346333</td>\n",
       "      <td>2.138670</td>\n",
       "      <td>0.000000</td>\n",
       "      <td>0.000000</td>\n",
       "      <td>0.000000</td>\n",
       "      <td>2.000000</td>\n",
       "      <td>13.000000</td>\n",
       "    </tr>\n",
       "    <tr>\n",
       "      <th>card_open_36_month_num</th>\n",
       "      <td>3000.0</td>\n",
       "      <td>0.183667</td>\n",
       "      <td>0.404954</td>\n",
       "      <td>0.000000</td>\n",
       "      <td>0.000000</td>\n",
       "      <td>0.000000</td>\n",
       "      <td>0.000000</td>\n",
       "      <td>2.000000</td>\n",
       "    </tr>\n",
       "    <tr>\n",
       "      <th>auto_open_ 36_month_num</th>\n",
       "      <td>3000.0</td>\n",
       "      <td>0.233333</td>\n",
       "      <td>0.423811</td>\n",
       "      <td>0.000000</td>\n",
       "      <td>0.000000</td>\n",
       "      <td>0.000000</td>\n",
       "      <td>0.000000</td>\n",
       "      <td>2.000000</td>\n",
       "    </tr>\n",
       "    <tr>\n",
       "      <th>uti_card</th>\n",
       "      <td>3000.0</td>\n",
       "      <td>0.492146</td>\n",
       "      <td>0.103540</td>\n",
       "      <td>0.121641</td>\n",
       "      <td>0.421358</td>\n",
       "      <td>0.491333</td>\n",
       "      <td>0.561027</td>\n",
       "      <td>0.848864</td>\n",
       "    </tr>\n",
       "    <tr>\n",
       "      <th>uti_50plus_pct</th>\n",
       "      <td>3000.0</td>\n",
       "      <td>0.485204</td>\n",
       "      <td>0.114279</td>\n",
       "      <td>0.066159</td>\n",
       "      <td>0.408021</td>\n",
       "      <td>0.480013</td>\n",
       "      <td>0.563108</td>\n",
       "      <td>0.916516</td>\n",
       "    </tr>\n",
       "    <tr>\n",
       "      <th>uti_max_credit_line</th>\n",
       "      <td>3000.0</td>\n",
       "      <td>0.458791</td>\n",
       "      <td>0.104634</td>\n",
       "      <td>0.066824</td>\n",
       "      <td>0.391069</td>\n",
       "      <td>0.456713</td>\n",
       "      <td>0.530650</td>\n",
       "      <td>0.824865</td>\n",
       "    </tr>\n",
       "    <tr>\n",
       "      <th>uti_card_50plus_pct</th>\n",
       "      <td>3000.0</td>\n",
       "      <td>0.413191</td>\n",
       "      <td>0.171101</td>\n",
       "      <td>0.000000</td>\n",
       "      <td>0.354494</td>\n",
       "      <td>0.443177</td>\n",
       "      <td>0.521638</td>\n",
       "      <td>0.782227</td>\n",
       "    </tr>\n",
       "    <tr>\n",
       "      <th>ind_acc_XYZ</th>\n",
       "      <td>3000.0</td>\n",
       "      <td>0.257000</td>\n",
       "      <td>0.437052</td>\n",
       "      <td>0.000000</td>\n",
       "      <td>0.000000</td>\n",
       "      <td>0.000000</td>\n",
       "      <td>1.000000</td>\n",
       "      <td>1.000000</td>\n",
       "    </tr>\n",
       "    <tr>\n",
       "      <th>rep_income</th>\n",
       "      <td>3000.0</td>\n",
       "      <td>82271.458817</td>\n",
       "      <td>15171.123332</td>\n",
       "      <td>27000.000000</td>\n",
       "      <td>73000.000000</td>\n",
       "      <td>81000.000000</td>\n",
       "      <td>92000.000000</td>\n",
       "      <td>147000.000000</td>\n",
       "    </tr>\n",
       "    <tr>\n",
       "      <th>Default_ind</th>\n",
       "      <td>3000.0</td>\n",
       "      <td>0.074000</td>\n",
       "      <td>0.261815</td>\n",
       "      <td>0.000000</td>\n",
       "      <td>0.000000</td>\n",
       "      <td>0.000000</td>\n",
       "      <td>0.000000</td>\n",
       "      <td>1.000000</td>\n",
       "    </tr>\n",
       "    <tr>\n",
       "      <th>uti_card_50plus_pct_missing</th>\n",
       "      <td>3000.0</td>\n",
       "      <td>0.099000</td>\n",
       "      <td>0.298712</td>\n",
       "      <td>0.000000</td>\n",
       "      <td>0.000000</td>\n",
       "      <td>0.000000</td>\n",
       "      <td>0.000000</td>\n",
       "      <td>1.000000</td>\n",
       "    </tr>\n",
       "    <tr>\n",
       "      <th>rep_income_missing</th>\n",
       "      <td>3000.0</td>\n",
       "      <td>0.084333</td>\n",
       "      <td>0.277933</td>\n",
       "      <td>0.000000</td>\n",
       "      <td>0.000000</td>\n",
       "      <td>0.000000</td>\n",
       "      <td>0.000000</td>\n",
       "      <td>1.000000</td>\n",
       "    </tr>\n",
       "  </tbody>\n",
       "</table>\n",
       "</div>"
      ],
      "text/plain": [
       "                                     count          mean           std  \\\n",
       "tot_credit_debt                     3000.0  89348.951453  20797.518015   \n",
       "avg_card_debt                       3000.0  13530.926413   9078.847705   \n",
       "credit_age                          3000.0    283.314667     62.777783   \n",
       "credit_good_age                     3000.0    147.482333     30.745484   \n",
       "card_age                            3000.0    253.234333     62.584314   \n",
       "non_mtg_acc_past_due_12_months_num  3000.0      0.129000      0.480037   \n",
       "non_mtg_acc_past_due_6_months_num   3000.0      0.032333      0.180644   \n",
       "mortgages_past_due_6_months_num     3000.0      0.034667      0.182965   \n",
       "credit_past_due_amount              3000.0    336.234333   1980.800293   \n",
       "inq_12_month_num                    3000.0      0.831667      1.356937   \n",
       "card_inq_24_month_num               3000.0      1.346333      2.138670   \n",
       "card_open_36_month_num              3000.0      0.183667      0.404954   \n",
       "auto_open_ 36_month_num             3000.0      0.233333      0.423811   \n",
       "uti_card                            3000.0      0.492146      0.103540   \n",
       "uti_50plus_pct                      3000.0      0.485204      0.114279   \n",
       "uti_max_credit_line                 3000.0      0.458791      0.104634   \n",
       "uti_card_50plus_pct                 3000.0      0.413191      0.171101   \n",
       "ind_acc_XYZ                         3000.0      0.257000      0.437052   \n",
       "rep_income                          3000.0  82271.458817  15171.123332   \n",
       "Default_ind                         3000.0      0.074000      0.261815   \n",
       "uti_card_50plus_pct_missing         3000.0      0.099000      0.298712   \n",
       "rep_income_missing                  3000.0      0.084333      0.277933   \n",
       "\n",
       "                                             min           25%           50%  \\\n",
       "tot_credit_debt                     13137.290000  75621.240000  88874.545000   \n",
       "avg_card_debt                        2910.570000  10883.795000  12755.865000   \n",
       "credit_age                             81.000000    241.000000    282.000000   \n",
       "credit_good_age                        24.000000    127.000000    147.000000   \n",
       "card_age                               76.000000    210.000000    251.000000   \n",
       "non_mtg_acc_past_due_12_months_num      0.000000      0.000000      0.000000   \n",
       "non_mtg_acc_past_due_6_months_num       0.000000      0.000000      0.000000   \n",
       "mortgages_past_due_6_months_num         0.000000      0.000000      0.000000   \n",
       "credit_past_due_amount                  0.000000      0.000000      0.000000   \n",
       "inq_12_month_num                        0.000000      0.000000      0.000000   \n",
       "card_inq_24_month_num                   0.000000      0.000000      0.000000   \n",
       "card_open_36_month_num                  0.000000      0.000000      0.000000   \n",
       "auto_open_ 36_month_num                 0.000000      0.000000      0.000000   \n",
       "uti_card                                0.121641      0.421358      0.491333   \n",
       "uti_50plus_pct                          0.066159      0.408021      0.480013   \n",
       "uti_max_credit_line                     0.066824      0.391069      0.456713   \n",
       "uti_card_50plus_pct                     0.000000      0.354494      0.443177   \n",
       "ind_acc_XYZ                             0.000000      0.000000      0.000000   \n",
       "rep_income                          27000.000000  73000.000000  81000.000000   \n",
       "Default_ind                             0.000000      0.000000      0.000000   \n",
       "uti_card_50plus_pct_missing             0.000000      0.000000      0.000000   \n",
       "rep_income_missing                      0.000000      0.000000      0.000000   \n",
       "\n",
       "                                              75%            max  \n",
       "tot_credit_debt                     103651.667500  170237.010000  \n",
       "avg_card_debt                        14601.647500   99999.000000  \n",
       "credit_age                             325.000000     507.000000  \n",
       "credit_good_age                        169.000000     253.000000  \n",
       "card_age                               296.000000     479.000000  \n",
       "non_mtg_acc_past_due_12_months_num       0.000000       4.000000  \n",
       "non_mtg_acc_past_due_6_months_num        0.000000       2.000000  \n",
       "mortgages_past_due_6_months_num          0.000000       1.000000  \n",
       "credit_past_due_amount                   0.000000   20095.430000  \n",
       "inq_12_month_num                         1.000000       8.000000  \n",
       "card_inq_24_month_num                    2.000000      13.000000  \n",
       "card_open_36_month_num                   0.000000       2.000000  \n",
       "auto_open_ 36_month_num                  0.000000       2.000000  \n",
       "uti_card                                 0.561027       0.848864  \n",
       "uti_50plus_pct                           0.563108       0.916516  \n",
       "uti_max_credit_line                      0.530650       0.824865  \n",
       "uti_card_50plus_pct                      0.521638       0.782227  \n",
       "ind_acc_XYZ                              1.000000       1.000000  \n",
       "rep_income                           92000.000000  147000.000000  \n",
       "Default_ind                              0.000000       1.000000  \n",
       "uti_card_50plus_pct_missing              0.000000       1.000000  \n",
       "rep_income_missing                       0.000000       1.000000  "
      ]
     },
     "execution_count": 16,
     "metadata": {},
     "output_type": "execute_result"
    }
   ],
   "source": [
    "valid_df.describe().T"
   ]
  },
  {
   "cell_type": "markdown",
   "id": "massive-stake",
   "metadata": {},
   "source": [
    "It is difficult to see the exact details from the above table. So visualizing the distribution using histogram is a better choice. Below the plots for a column in the train, valid, test are shown side by side. And if there is any distribution shift we can easily catch it."
   ]
  },
  {
   "cell_type": "code",
   "execution_count": 17,
   "id": "formal-reception",
   "metadata": {},
   "outputs": [],
   "source": [
    "def plot_dist(col_name):\n",
    "    print(f'Column = {col_name}')\n",
    "    fig, ax = plt.subplots(1,3, figsize=(15, 5))\n",
    "    ax[0].hist(train_df[col])\n",
    "    ax[1].hist(train_df[col])\n",
    "    ax[2].hist(train_df[col])\n",
    "    plt.show()"
   ]
  },
  {
   "cell_type": "code",
   "execution_count": 18,
   "id": "advanced-serbia",
   "metadata": {
    "scrolled": false
   },
   "outputs": [
    {
     "name": "stdout",
     "output_type": "stream",
     "text": [
      "Column = tot_credit_debt\n"
     ]
    },
    {
     "data": {
      "image/png": "[encoded data removed]",
      "text/plain": [
       "<Figure size 1080x360 with 3 Axes>"
      ]
     },
     "metadata": {
      "needs_background": "light"
     },
     "output_type": "display_data"
    },
    {
     "name": "stdout",
     "output_type": "stream",
     "text": [
      "Column = avg_card_debt\n"
     ]
    },
    {
     "data": {
      "image/png": "[encoded data removed]",
      "text/plain": [
       "<Figure size 1080x360 with 3 Axes>"
      ]
     },
     "metadata": {
      "needs_background": "light"
     },
     "output_type": "display_data"
    },
    {
     "name": "stdout",
     "output_type": "stream",
     "text": [
      "Column = credit_age\n"
     ]
    },
    {
     "data": {
      "image/png": "[encoded data removed]",
      "text/plain": [
       "<Figure size 1080x360 with 3 Axes>"
      ]
     },
     "metadata": {
      "needs_background": "light"
     },
     "output_type": "display_data"
    },
    {
     "name": "stdout",
     "output_type": "stream",
     "text": [
      "Column = credit_good_age\n"
     ]
    },
    {
     "data": {
      "image/png": "[encoded data removed]",
      "text/plain": [
       "<Figure size 1080x360 with 3 Axes>"
      ]
     },
     "metadata": {
      "needs_background": "light"
     },
     "output_type": "display_data"
    },
    {
     "name": "stdout",
     "output_type": "stream",
     "text": [
      "Column = card_age\n"
     ]
    },
    {
     "data": {
      "image/png": "[encoded data removed]",
      "text/plain": [
       "<Figure size 1080x360 with 3 Axes>"
      ]
     },
     "metadata": {
      "needs_background": "light"
     },
     "output_type": "display_data"
    },
    {
     "name": "stdout",
     "output_type": "stream",
     "text": [
      "Column = non_mtg_acc_past_due_12_months_num\n"
     ]
    },
    {
     "data": {
      "image/png": "[encoded data removed]",
      "text/plain": [
       "<Figure size 1080x360 with 3 Axes>"
      ]
     },
     "metadata": {
      "needs_background": "light"
     },
     "output_type": "display_data"
    },
    {
     "name": "stdout",
     "output_type": "stream",
     "text": [
      "Column = non_mtg_acc_past_due_6_months_num\n"
     ]
    },
    {
     "data": {
      "image/png": "[encoded data removed]",
      "text/plain": [
       "<Figure size 1080x360 with 3 Axes>"
      ]
     },
     "metadata": {
      "needs_background": "light"
     },
     "output_type": "display_data"
    },
    {
     "name": "stdout",
     "output_type": "stream",
     "text": [
      "Column = mortgages_past_due_6_months_num\n"
     ]
    },
    {
     "data": {
      "image/png": "[encoded data removed]",
      "text/plain": [
       "<Figure size 1080x360 with 3 Axes>"
      ]
     },
     "metadata": {
      "needs_background": "light"
     },
     "output_type": "display_data"
    },
    {
     "name": "stdout",
     "output_type": "stream",
     "text": [
      "Column = credit_past_due_amount\n"
     ]
    },
    {
     "data": {
      "image/png": "[encoded data removed]",
      "text/plain": [
       "<Figure size 1080x360 with 3 Axes>"
      ]
     },
     "metadata": {
      "needs_background": "light"
     },
     "output_type": "display_data"
    },
    {
     "name": "stdout",
     "output_type": "stream",
     "text": [
      "Column = inq_12_month_num\n"
     ]
    },
    {
     "data": {
      "image/png": "[encoded data removed]",
      "text/plain": [
       "<Figure size 1080x360 with 3 Axes>"
      ]
     },
     "metadata": {
      "needs_background": "light"
     },
     "output_type": "display_data"
    },
    {
     "name": "stdout",
     "output_type": "stream",
     "text": [
      "Column = card_inq_24_month_num\n"
     ]
    },
    {
     "data": {
      "image/png": "[encoded data removed]",
      "text/plain": [
       "<Figure size 1080x360 with 3 Axes>"
      ]
     },
     "metadata": {
      "needs_background": "light"
     },
     "output_type": "display_data"
    },
    {
     "name": "stdout",
     "output_type": "stream",
     "text": [
      "Column = card_open_36_month_num\n"
     ]
    },
    {
     "data": {
      "image/png": "[encoded data removed]",
      "text/plain": [
       "<Figure size 1080x360 with 3 Axes>"
      ]
     },
     "metadata": {
      "needs_background": "light"
     },
     "output_type": "display_data"
    },
    {
     "name": "stdout",
     "output_type": "stream",
     "text": [
      "Column = auto_open_ 36_month_num\n"
     ]
    },
    {
     "data": {
      "image/png": "[encoded data removed]",
      "text/plain": [
       "<Figure size 1080x360 with 3 Axes>"
      ]
     },
     "metadata": {
      "needs_background": "light"
     },
     "output_type": "display_data"
    },
    {
     "name": "stdout",
     "output_type": "stream",
     "text": [
      "Column = uti_card\n"
     ]
    },
    {
     "data": {
      "image/png": "[encoded data removed]",
      "text/plain": [
       "<Figure size 1080x360 with 3 Axes>"
      ]
     },
     "metadata": {
      "needs_background": "light"
     },
     "output_type": "display_data"
    },
    {
     "name": "stdout",
     "output_type": "stream",
     "text": [
      "Column = uti_50plus_pct\n"
     ]
    },
    {
     "data": {
      "image/png": "[encoded data removed]",
      "text/plain": [
       "<Figure size 1080x360 with 3 Axes>"
      ]
     },
     "metadata": {
      "needs_background": "light"
     },
     "output_type": "display_data"
    },
    {
     "name": "stdout",
     "output_type": "stream",
     "text": [
      "Column = uti_max_credit_line\n"
     ]
    },
    {
     "data": {
      "image/png": "[encoded data removed]",
      "text/plain": [
       "<Figure size 1080x360 with 3 Axes>"
      ]
     },
     "metadata": {
      "needs_background": "light"
     },
     "output_type": "display_data"
    },
    {
     "name": "stdout",
     "output_type": "stream",
     "text": [
      "Column = uti_card_50plus_pct\n"
     ]
    },
    {
     "data": {
      "image/png": "[encoded data removed]",
      "text/plain": [
       "<Figure size 1080x360 with 3 Axes>"
      ]
     },
     "metadata": {
      "needs_background": "light"
     },
     "output_type": "display_data"
    },
    {
     "name": "stdout",
     "output_type": "stream",
     "text": [
      "Column = ind_acc_XYZ\n"
     ]
    },
    {
     "data": {
      "image/png": "[encoded data removed]",
      "text/plain": [
       "<Figure size 1080x360 with 3 Axes>"
      ]
     },
     "metadata": {
      "needs_background": "light"
     },
     "output_type": "display_data"
    },
    {
     "name": "stdout",
     "output_type": "stream",
     "text": [
      "Column = rep_income\n"
     ]
    },
    {
     "data": {
      "image/png": "[encoded data removed]",
      "text/plain": [
       "<Figure size 1080x360 with 3 Axes>"
      ]
     },
     "metadata": {
      "needs_background": "light"
     },
     "output_type": "display_data"
    },
    {
     "name": "stdout",
     "output_type": "stream",
     "text": [
      "Column = States\n"
     ]
    },
    {
     "data": {
      "image/png": "[encoded data removed]",
      "text/plain": [
       "<Figure size 1080x360 with 3 Axes>"
      ]
     },
     "metadata": {
      "needs_background": "light"
     },
     "output_type": "display_data"
    },
    {
     "name": "stdout",
     "output_type": "stream",
     "text": [
      "Column = Default_ind\n"
     ]
    },
    {
     "data": {
      "image/png": "[encoded data removed]",
      "text/plain": [
       "<Figure size 1080x360 with 3 Axes>"
      ]
     },
     "metadata": {
      "needs_background": "light"
     },
     "output_type": "display_data"
    },
    {
     "name": "stdout",
     "output_type": "stream",
     "text": [
      "Column = uti_card_50plus_pct_missing\n"
     ]
    },
    {
     "data": {
      "image/png": "[encoded data removed]",
      "text/plain": [
       "<Figure size 1080x360 with 3 Axes>"
      ]
     },
     "metadata": {
      "needs_background": "light"
     },
     "output_type": "display_data"
    },
    {
     "name": "stdout",
     "output_type": "stream",
     "text": [
      "Column = rep_income_missing\n"
     ]
    },
    {
     "data": {
      "image/png": "[encoded data removed]",
      "text/plain": [
       "<Figure size 1080x360 with 3 Axes>"
      ]
     },
     "metadata": {
      "needs_background": "light"
     },
     "output_type": "display_data"
    }
   ],
   "source": [
    "column_names = train_df.columns\n",
    "for col in column_names:\n",
    "    plot_dist(col)"
   ]
  },
  {
   "cell_type": "markdown",
   "id": "sustained-johnson",
   "metadata": {},
   "source": [
    "The distribution are almost the same so we don't have to worry about distribution shift. And for the rest of the EDA we can ignore the test set as the validation set has the same distribution as test set."
   ]
  },
  {
   "cell_type": "markdown",
   "id": "cooperative-renaissance",
   "metadata": {},
   "source": [
    "## States column\n",
    "This is the only categoircal column and it has same number of values for each category."
   ]
  },
  {
   "cell_type": "code",
   "execution_count": 19,
   "id": "micro-understanding",
   "metadata": {},
   "outputs": [
    {
     "data": {
      "text/plain": [
       "NC    2898\n",
       "AL    2893\n",
       "GA    2857\n",
       "FL    2857\n",
       "LA    2849\n",
       "MS    2827\n",
       "SC    2819\n",
       "Name: States, dtype: int64"
      ]
     },
     "execution_count": 19,
     "metadata": {},
     "output_type": "execute_result"
    }
   ],
   "source": [
    "train_df['States'].value_counts()"
   ]
  },
  {
   "cell_type": "markdown",
   "id": "sophisticated-pickup",
   "metadata": {},
   "source": [
    "## Correlation of columns\n",
    "Saved the output as csv as it might be difficult to view in jupyter."
   ]
  },
  {
   "cell_type": "code",
   "execution_count": 20,
   "id": "stuffed-scientist",
   "metadata": {},
   "outputs": [],
   "source": [
    "corr = train_df.corr()\n",
    "corr.to_csv('corr.csv')"
   ]
  },
  {
   "cell_type": "code",
   "execution_count": 21,
   "id": "compatible-sacrifice",
   "metadata": {},
   "outputs": [
    {
     "data": {
      "image/png": "[encoded data removed]",
      "text/plain": [
       "<Figure size 720x720 with 1 Axes>"
      ]
     },
     "metadata": {
      "needs_background": "light"
     },
     "output_type": "display_data"
    }
   ],
   "source": [
    "plt.figure(figsize=(10,10))\n",
    "plt.matshow(corr, fignum=1)\n",
    "plt.xticks(range(len(column_names)), labels=column_names, rotation='vertical')\n",
    "plt.yticks(range(len(column_names)), labels=column_names)\n",
    "plt.show()"
   ]
  },
  {
   "cell_type": "code",
   "execution_count": null,
   "id": "placed-gibson",
   "metadata": {},
   "outputs": [],
   "source": []
  }
 ],
 "metadata": {
  "kernelspec": {
   "display_name": "Python 3",
   "language": "python",
   "name": "python3"
  },
  "language_info": {
   "codemirror_mode": {
    "name": "ipython",
    "version": 3
   },
   "file_extension": ".py",
   "mimetype": "text/x-python",
   "name": "python",
   "nbconvert_exporter": "python",
   "pygments_lexer": "ipython3",
   "version": "3.8.5"
  }
 },
 "nbformat": 4,
 "nbformat_minor": 5
}
