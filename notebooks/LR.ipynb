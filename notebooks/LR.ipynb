{
 "metadata": {
  "language_info": {
   "codemirror_mode": {
    "name": "ipython",
    "version": 3
   },
   "file_extension": ".py",
   "mimetype": "text/x-python",
   "name": "python",
   "nbconvert_exporter": "python",
   "pygments_lexer": "ipython3",
   "version": "3.8.5"
  },
  "orig_nbformat": 2,
  "kernelspec": {
   "name": "python385jvsc74a57bd06f8ee94c255eb1f45edb80e83721093c1db1e2ea85447c0854292673b957abb8",
   "display_name": "Python 3.8.5 64-bit ('base': conda)"
  }
 },
 "nbformat": 4,
 "nbformat_minor": 2,
 "cells": [
  {
   "cell_type": "code",
   "execution_count": 1,
   "metadata": {},
   "outputs": [
    {
     "output_type": "stream",
     "name": "stderr",
     "text": [
      "Cloning into 'ds_cup'...\nerror: cannot spawn sh: No such file or directory\nfatal: could not read Username for 'https://github.com': No such file or directory\n"
     ]
    }
   ],
   "source": [
    "!git clone https://github.com/KushajveerSingh/ds_cup"
   ]
  },
  {
   "cell_type": "code",
   "execution_count": 2,
   "metadata": {},
   "outputs": [],
   "source": [
    "from pathlib import Path\n",
    "import pandas as pd\n",
    "import matplotlib.pyplot as plt\n",
    "import numpy as np\n",
    "from sklearn.preprocessing import OneHotEncoder\n",
    "from sklearn.linear_model import LogisticRegression\n",
    "from sklearn.pipeline import make_pipeline\n",
    "from sklearn.model_selection import cross_validate\n",
    "from sklearn.metrics import accuracy_score, recall_score,precision_score,roc_curve,roc_auc_score,RocCurveDisplay\n",
    "from sklearn.metrics import f1_score\n",
    "smallestF =  np.finfo('float').eps # smallest float value (numpy), will be used later"
   ]
  },
  {
   "cell_type": "code",
   "execution_count": 3,
   "metadata": {},
   "outputs": [],
   "source": [
    "path = Path('../data_orig')\n",
    "# path = Path('ds_cup/orig_data')\n",
    "orig_train_df = pd.read_csv(path/'train.csv')\n",
    "orig_valid_df = pd.read_csv(path/'valid.csv')\n",
    "orig_test_df = pd.read_csv(path/'test.csv')"
   ]
  },
  {
   "cell_type": "code",
   "execution_count": 4,
   "metadata": {},
   "outputs": [],
   "source": [
    "#Fix Name error:\n",
    "orig_train_df.rename(columns={'auto_open_ 36_month_num': 'auto_open_36_month_num'},inplace=True)\n",
    "orig_valid_df.rename(columns={'auto_open_ 36_month_num': 'auto_open_36_month_num'},inplace=True)\n",
    "orig_test_df.rename(columns={'auto_open_ 36_month_num': 'auto_open_36_month_num'},inplace=True)"
   ]
  },
  {
   "cell_type": "code",
   "execution_count": 5,
   "metadata": {},
   "outputs": [],
   "source": [
    "def print_size(df, name):\n",
    "    counts = df['Default_ind'].value_counts()\n",
    "    print(f'{name} dataset')\n",
    "    print(f'Num 0 values = {counts[0]}')\n",
    "    print(f'Num 1 values = {counts[1]}')\n",
    "    print()"
   ]
  },
  {
   "cell_type": "code",
   "execution_count": 6,
   "metadata": {},
   "outputs": [
    {
     "output_type": "stream",
     "name": "stdout",
     "text": [
      "train dataset\nNum 0 values = 18414\nNum 1 values = 1586\n\nvalid dataset\nNum 0 values = 2778\nNum 1 values = 222\n\ntest dataset\nNum 0 values = 4599\nNum 1 values = 401\n\n"
     ]
    }
   ],
   "source": [
    "print_size(orig_train_df, 'train')\n",
    "print_size(orig_valid_df, 'valid')\n",
    "print_size(orig_test_df, 'test')"
   ]
  },
  {
   "cell_type": "code",
   "execution_count": 7,
   "metadata": {},
   "outputs": [
    {
     "output_type": "stream",
     "name": "stdout",
     "text": [
      "tot_credit_debt                          0\navg_card_debt                            0\ncredit_age                               0\ncredit_good_age                          0\ncard_age                                 0\nnon_mtg_acc_past_due_12_months_num       0\nnon_mtg_acc_past_due_6_months_num        0\nmortgages_past_due_6_months_num          0\ncredit_past_due_amount                   0\ninq_12_month_num                         0\ncard_inq_24_month_num                    0\ncard_open_36_month_num                   0\nauto_open_36_month_num                   0\nuti_card                                 0\nuti_50plus_pct                           0\nuti_max_credit_line                      0\nuti_card_50plus_pct                   2055\nind_acc_XYZ                              0\nrep_income                            1570\nStates                                   0\nDefault_ind                              0\ndtype: int64\n--\ntot_credit_debt                         0\navg_card_debt                           0\ncredit_age                              0\ncredit_good_age                         0\ncard_age                                0\nnon_mtg_acc_past_due_12_months_num      0\nnon_mtg_acc_past_due_6_months_num       0\nmortgages_past_due_6_months_num         0\ncredit_past_due_amount                  0\ninq_12_month_num                        0\ncard_inq_24_month_num                   0\ncard_open_36_month_num                  0\nauto_open_36_month_num                  0\nuti_card                                0\nuti_50plus_pct                          0\nuti_max_credit_line                     0\nuti_card_50plus_pct                   297\nind_acc_XYZ                             0\nrep_income                            253\nStates                                  0\nDefault_ind                             0\ndtype: int64\n--\ntot_credit_debt                         0\navg_card_debt                           0\ncredit_age                              0\ncredit_good_age                         0\ncard_age                                0\nnon_mtg_acc_past_due_12_months_num      0\nnon_mtg_acc_past_due_6_months_num       0\nmortgages_past_due_6_months_num         0\ncredit_past_due_amount                  0\ninq_12_month_num                        0\ncard_inq_24_month_num                   0\ncard_open_36_month_num                  0\nauto_open_36_month_num                  0\nuti_card                                0\nuti_50plus_pct                          0\nuti_max_credit_line                     0\nuti_card_50plus_pct                   499\nind_acc_XYZ                             0\nrep_income                            383\nStates                                  0\nDefault_ind                             0\ndtype: int64\n--\n"
     ]
    }
   ],
   "source": [
    "print(orig_train_df.isnull().sum())\n",
    "print('--')\n",
    "print(orig_valid_df.isnull().sum())\n",
    "print('--')\n",
    "print(orig_test_df.isnull().sum())\n",
    "print('--')"
   ]
  },
  {
   "cell_type": "code",
   "execution_count": 8,
   "metadata": {},
   "outputs": [],
   "source": [
    "def createThreshDict(colName,Arr):\n",
    "    _dict = {}\n",
    "    _dict['colName'] = colName\n",
    "    _dict['ThreshArr'] = Arr\n",
    "    return _dict\n",
    "def binColumn(col,threshArr):\n",
    "    assert col.isnull().all() != True, \"All values are null?\"\n",
    "    def binVal(val):\n",
    "        loc = 1\n",
    "        for x in threshArr:\n",
    "            if(val<=x):\n",
    "                return loc\n",
    "            else:\n",
    "                loc = loc+1\n",
    "        return loc\n",
    "    theCol = col.copy()\n",
    "    threshArr = np.sort(np.array(threshArr))\n",
    "    #Replace Nulls with 0 if any\n",
    "    theBinnedCol = []\n",
    "    for val in theCol:\n",
    "        if(not np.isnan(val)):\n",
    "            theBinnedCol.extend([binVal(val)])\n",
    "        else:\n",
    "            theBinnedCol.extend([0])\n",
    "        #theCol.update(pd.Series([], index=[ind]))\n",
    "    return pd.Series(theBinnedCol,index=col.keys())"
   ]
  },
  {
   "cell_type": "code",
   "execution_count": 9,
   "metadata": {},
   "outputs": [],
   "source": [
    "def trainDataBinClean(DF):\n",
    "    DFThresh =  pd.DataFrame(columns=createThreshDict(\"\",[]).keys())\n",
    "    DF_Cleaned = pd.DataFrame(columns=DF.columns)\n",
    "    #--'tot_credit_debt'--\n",
    "    _col = 'tot_credit_debt'\n",
    "    _thresh = DF[_col].quantile([0.2,0.4,0.6,0.8]).to_numpy()\n",
    "    DFThresh = DFThresh.append(createThreshDict(_col,\n",
    "        _thresh),\n",
    "        ignore_index=True) \n",
    "    DF_Cleaned[_col] = binColumn(DF[_col],_thresh)\n",
    "    #--'avg_card_debt'--\n",
    "    cutoff_avg_card_debt = (13167.825020 + 99999.0)/2\n",
    "    _col = 'avg_card_debt'\n",
    "    _thresh = DF[DF.avg_card_debt < cutoff_avg_card_debt]['avg_card_debt'].quantile([0.2,0.4,0.6,0.8]).to_numpy()\n",
    "    _thresh = np.append(_thresh, [cutoff_avg_card_debt])\n",
    "    DFThresh = DFThresh.append(createThreshDict(_col,\n",
    "        _thresh),\n",
    "        ignore_index=True) \n",
    "    DF_Cleaned[_col] = binColumn(DF[_col],_thresh)\n",
    "    #--'credit_age'--\n",
    "    _col = 'credit_age'\n",
    "    _thresh = DF[_col].quantile([0.2,0.4,0.6,0.8]).to_numpy()\n",
    "    DFThresh = DFThresh.append(createThreshDict(_col,\n",
    "        _thresh),\n",
    "        ignore_index=True) \n",
    "    DF_Cleaned[_col] = binColumn(DF[_col],_thresh)\n",
    "    #--'credit_good_age'--\n",
    "    _col = 'credit_good_age'\n",
    "    _thresh = DF[_col].quantile([0.2,0.4,0.6,0.8]).to_numpy()\n",
    "    DFThresh = DFThresh.append(createThreshDict(_col,\n",
    "        _thresh),\n",
    "        ignore_index=True) \n",
    "    DF_Cleaned[_col] = binColumn(DF[_col],_thresh)\n",
    "    #--'card_age'--\n",
    "    _col = 'card_age'\n",
    "    _thresh = DF[_col].quantile([0.2,0.4,0.6,0.8]).to_numpy()\n",
    "    DFThresh = DFThresh.append(createThreshDict(_col,\n",
    "        _thresh),\n",
    "        ignore_index=True) \n",
    "    DF_Cleaned[_col] = binColumn(DF[_col],_thresh)\n",
    "    #--'non_mtg_acc_past_due_12_months_num'--\n",
    "    DF_Cleaned['non_mtg_acc_past_due_12_months_num'] = DF['non_mtg_acc_past_due_12_months_num'].copy()\n",
    "    #--'non_mtg_acc_past_due_6_months_num'--\n",
    "    DF_Cleaned['non_mtg_acc_past_due_6_months_num'] = DF['non_mtg_acc_past_due_6_months_num'].copy()\n",
    "    #--'mortgages_past_due_6_months_num'--\n",
    "    DF_Cleaned['mortgages_past_due_6_months_num'] = DF['mortgages_past_due_6_months_num'].copy()\n",
    "    #--'credit_past_due_amount'--\n",
    "    _col = 'credit_past_due_amount'\n",
    "    _thresh = DF[DF.credit_past_due_amount > 0][_col].quantile([0.2,0.4,0.6,0.8]).to_numpy()\n",
    "    _thresh = np.insert(_thresh, 0, 0+smallestF)\n",
    "    DFThresh = DFThresh.append(createThreshDict(_col,\n",
    "        _thresh),\n",
    "        ignore_index=True) \n",
    "    DF_Cleaned[_col] = binColumn(DF[_col],_thresh)\n",
    "    #--'inq_12_month_num'--\n",
    "    _col = 'inq_12_month_num'\n",
    "    _thresh = DF[_col].quantile([0.2,0.4,0.6,0.8]).to_numpy()\n",
    "    DFThresh = DFThresh.append(createThreshDict(_col,\n",
    "        _thresh),\n",
    "        ignore_index=True) \n",
    "    DF_Cleaned[_col] = binColumn(DF[_col],_thresh)\n",
    "    #--'card_inq_24_month_num'--\n",
    "    _col = 'card_inq_24_month_num'\n",
    "    _thresh = DF[_col].quantile([0.2,0.4,0.6,0.8]).to_numpy()\n",
    "    DFThresh = DFThresh.append(createThreshDict(_col,\n",
    "        _thresh),\n",
    "        ignore_index=True) \n",
    "    DF_Cleaned[_col] = binColumn(DF[_col],_thresh)\n",
    "    #--'card_open_36_month_num'--\n",
    "    _col = 'card_open_36_month_num'\n",
    "    DF_Cleaned[_col] = DF[_col].copy()\n",
    "    #--'auto_open_ 36_month_num'--\n",
    "    _col = 'auto_open_36_month_num'\n",
    "    DF_Cleaned[_col] = DF[_col].copy()\n",
    "    #--'uti_card'--\n",
    "    _col = 'uti_card'\n",
    "    _thresh = DF[_col].quantile([0.2,0.4,0.6,0.8]).to_numpy()\n",
    "    DFThresh = DFThresh.append(createThreshDict(_col,\n",
    "        _thresh),\n",
    "        ignore_index=True) \n",
    "    DF_Cleaned[_col] = binColumn(DF[_col],_thresh)\n",
    "    #--'uti_50plus_pct'--\n",
    "    _col = 'uti_50plus_pct'\n",
    "    _thresh = DF[_col].quantile([0.2,0.4,0.6,0.8]).to_numpy()\n",
    "    DFThresh = DFThresh.append(createThreshDict(_col,\n",
    "        _thresh),\n",
    "        ignore_index=True) \n",
    "    DF_Cleaned[_col] = binColumn(DF[_col],_thresh)\n",
    "    #--'uti_max_credit_line'--\n",
    "    _col = 'uti_max_credit_line'\n",
    "    _thresh = DF[_col].quantile([0.2,0.4,0.6,0.8]).to_numpy()\n",
    "    DFThresh = DFThresh.append(createThreshDict(_col,\n",
    "        _thresh),\n",
    "        ignore_index=True) \n",
    "    DF_Cleaned[_col] = binColumn(DF[_col],_thresh)\n",
    "    #--'uti_card_50plus_pct'--\n",
    "    _col = 'uti_card_50plus_pct'\n",
    "    _thresh = DF[_col].quantile([0.2,0.4,0.6,0.8]).to_numpy()\n",
    "    DFThresh = DFThresh.append(createThreshDict(_col,\n",
    "        _thresh),\n",
    "        ignore_index=True) \n",
    "    DF_Cleaned[_col] = binColumn(DF[_col],_thresh)\n",
    "    #--'ind_acc_XYZ'--\n",
    "    _col = 'ind_acc_XYZ'\n",
    "    DF_Cleaned[_col] = DF[_col].copy()\n",
    "    #--'rep_income'--\n",
    "    _col = 'rep_income'\n",
    "    _thresh = DF[_col].quantile([0.2,0.4,0.6,0.8]).to_numpy()\n",
    "    DFThresh = DFThresh.append(createThreshDict(_col,\n",
    "        _thresh),\n",
    "        ignore_index=True) \n",
    "    DF_Cleaned[_col] = binColumn(DF[_col],_thresh)\n",
    "    #--'States'--\n",
    "    _col = 'States'\n",
    "    enc = OneHotEncoder(handle_unknown='ignore',sparse = False)\n",
    "    SM = enc.fit_transform(DF[_col].to_numpy().reshape(-1,1)) #Got it!\n",
    "    for ind,cat in zip(range(0,len(enc.categories_[0])),enc.categories_[0]):\n",
    "        DF_Cleaned.drop(columns=['is'+str(cat)],inplace=True,errors='ignore')\n",
    "        DF_Cleaned.insert(0,'is'+str(cat), SM[:,ind]) # Inserted column names are isAK, isAL, isDC..etc. \n",
    "    #And it will contain 0 if that is not the state and 1 if that is the state,\n",
    "    DF_Cleaned.drop(columns=[_col],inplace=True) #Remove States Column\n",
    "    #--'Default_ind'--\n",
    "    _col = 'Default_ind'\n",
    "    DF_Cleaned[_col] = DF[_col].copy()\n",
    "    #--\n",
    "    return DF_Cleaned,DFThresh"
   ]
  },
  {
   "cell_type": "code",
   "execution_count": 10,
   "metadata": {},
   "outputs": [],
   "source": [
    "def binDataFrameWithThresh(DF,ThreshDF):\n",
    "    DF_Cleaned = DF.copy()\n",
    "    for col,arr in zip(ThreshDF.colName.values,ThreshDF.ThreshArr.values):\n",
    "        DF_Cleaned[col] = binColumn(DF[col],arr)\n",
    "    return DF_Cleaned\n",
    "def oneHotEncodeStates(DF):\n",
    "    _col = 'States'\n",
    "    DF_Fixed = DF.copy()\n",
    "    enc = OneHotEncoder(handle_unknown='ignore',sparse = False)\n",
    "    SM = enc.fit_transform(DF[_col].to_numpy().reshape(-1,1)) #Got it!\n",
    "    for ind,cat in zip(range(0,len(enc.categories_[0])),enc.categories_[0]):\n",
    "        DF_Fixed.drop(columns=['is'+str(cat)],inplace=True,errors='ignore')\n",
    "        DF_Fixed.insert(0,'is'+str(cat), SM[:,ind]) # Inserted column names are isAK, isAL, isDC..etc. \n",
    "    #And it will contain 0 if that is not the state and 1 if that is the state,\n",
    "    DF_Fixed.drop(columns=[_col],inplace=True) #Remove States Column\n",
    "    return DF_Fixed"
   ]
  },
  {
   "cell_type": "code",
   "execution_count": 11,
   "metadata": {},
   "outputs": [],
   "source": [
    "df_train,df_thresh = trainDataBinClean(orig_train_df)"
   ]
  },
  {
   "cell_type": "code",
   "execution_count": 12,
   "metadata": {},
   "outputs": [],
   "source": [
    "df_valid = binDataFrameWithThresh(orig_valid_df,df_thresh) # Binning Validation data using thresholds of training data\n",
    "df_valid = oneHotEncodeStates(df_valid) #States\n",
    "#Same ops on test data\n",
    "df_test = binDataFrameWithThresh(orig_test_df,df_thresh)\n",
    "df_test = oneHotEncodeStates(df_test)"
   ]
  },
  {
   "cell_type": "code",
   "execution_count": 13,
   "metadata": {},
   "outputs": [],
   "source": [
    "#train_df.to_csv(path/'train_binned.csv',index=None)\n",
    "df_thresh.to_csv(path/'Thresholds.csv',index=None)"
   ]
  },
  {
   "cell_type": "code",
   "execution_count": 14,
   "metadata": {},
   "outputs": [],
   "source": [
    "df_train = df_train.sample(frac=1) #Shuffle!\n",
    "df_trainX = df_train.iloc[:,:-1]\n",
    "df_trainY = df_train.iloc[:,-1]\n",
    "#\n",
    "df_valid = df_valid.sample(frac=1)\n",
    "df_validX = df_valid.iloc[:,:-1]\n",
    "df_validY = df_valid.iloc[:,-1]\n",
    "#\n",
    "df_test = df_test.sample(frac=1)\n",
    "df_testX = df_test.iloc[:,:-1]\n",
    "df_testY = df_test.iloc[:,-1]"
   ]
  },
  {
   "source": [
    "# --- Dataframes Ready ---"
   ],
   "cell_type": "markdown",
   "metadata": {}
  },
  {
   "source": [
    "### Sample Logistic Regression Test"
   ],
   "cell_type": "markdown",
   "metadata": {}
  },
  {
   "cell_type": "code",
   "execution_count": 15,
   "metadata": {},
   "outputs": [],
   "source": [
    "model = LogisticRegression(class_weight='balanced',solver='liblinear')\n",
    "scores = cross_validate(model, df_trainX, df_trainY, cv=10,scoring=('accuracy','recall','precision'))"
   ]
  },
  {
   "cell_type": "code",
   "execution_count": 16,
   "metadata": {},
   "outputs": [
    {
     "output_type": "execute_result",
     "data": {
      "text/plain": [
       "   fit_time  score_time  test_accuracy  test_recall  test_precision\n",
       "0  0.147036    0.004999         0.7610     0.639241        0.193487\n",
       "1  0.140033    0.005000         0.7565     0.664557        0.194805\n",
       "2  0.146055    0.004997         0.7660     0.727848        0.212963\n",
       "3  0.133013    0.005001         0.7585     0.620253        0.188100\n",
       "4  0.142033    0.005001         0.7555     0.654088        0.193309\n",
       "5  0.137054    0.004996         0.7445     0.622642        0.180000\n",
       "6  0.142013    0.005021         0.7630     0.584906        0.185629\n",
       "7  0.105034    0.005009         0.7580     0.704403        0.204007\n",
       "8  0.129050    0.004990         0.7450     0.666667        0.188277\n",
       "9  0.129079    0.005019         0.7670     0.660377        0.203095"
      ],
      "text/html": "<div>\n<style scoped>\n    .dataframe tbody tr th:only-of-type {\n        vertical-align: middle;\n    }\n\n    .dataframe tbody tr th {\n        vertical-align: top;\n    }\n\n    .dataframe thead th {\n        text-align: right;\n    }\n</style>\n<table border=\"1\" class=\"dataframe\">\n  <thead>\n    <tr style=\"text-align: right;\">\n      <th></th>\n      <th>fit_time</th>\n      <th>score_time</th>\n      <th>test_accuracy</th>\n      <th>test_recall</th>\n      <th>test_precision</th>\n    </tr>\n  </thead>\n  <tbody>\n    <tr>\n      <th>0</th>\n      <td>0.147036</td>\n      <td>0.004999</td>\n      <td>0.7610</td>\n      <td>0.639241</td>\n      <td>0.193487</td>\n    </tr>\n    <tr>\n      <th>1</th>\n      <td>0.140033</td>\n      <td>0.005000</td>\n      <td>0.7565</td>\n      <td>0.664557</td>\n      <td>0.194805</td>\n    </tr>\n    <tr>\n      <th>2</th>\n      <td>0.146055</td>\n      <td>0.004997</td>\n      <td>0.7660</td>\n      <td>0.727848</td>\n      <td>0.212963</td>\n    </tr>\n    <tr>\n      <th>3</th>\n      <td>0.133013</td>\n      <td>0.005001</td>\n      <td>0.7585</td>\n      <td>0.620253</td>\n      <td>0.188100</td>\n    </tr>\n    <tr>\n      <th>4</th>\n      <td>0.142033</td>\n      <td>0.005001</td>\n      <td>0.7555</td>\n      <td>0.654088</td>\n      <td>0.193309</td>\n    </tr>\n    <tr>\n      <th>5</th>\n      <td>0.137054</td>\n      <td>0.004996</td>\n      <td>0.7445</td>\n      <td>0.622642</td>\n      <td>0.180000</td>\n    </tr>\n    <tr>\n      <th>6</th>\n      <td>0.142013</td>\n      <td>0.005021</td>\n      <td>0.7630</td>\n      <td>0.584906</td>\n      <td>0.185629</td>\n    </tr>\n    <tr>\n      <th>7</th>\n      <td>0.105034</td>\n      <td>0.005009</td>\n      <td>0.7580</td>\n      <td>0.704403</td>\n      <td>0.204007</td>\n    </tr>\n    <tr>\n      <th>8</th>\n      <td>0.129050</td>\n      <td>0.004990</td>\n      <td>0.7450</td>\n      <td>0.666667</td>\n      <td>0.188277</td>\n    </tr>\n    <tr>\n      <th>9</th>\n      <td>0.129079</td>\n      <td>0.005019</td>\n      <td>0.7670</td>\n      <td>0.660377</td>\n      <td>0.203095</td>\n    </tr>\n  </tbody>\n</table>\n</div>"
     },
     "metadata": {},
     "execution_count": 16
    }
   ],
   "source": [
    "cv_scores = pd.DataFrame(scores)\n",
    "cv_scores"
   ]
  },
  {
   "cell_type": "code",
   "execution_count": 17,
   "metadata": {},
   "outputs": [
    {
     "output_type": "stream",
     "name": "stdout",
     "text": [
      "Average Cross Validation Results\nAccuracy = 0.7575000000000001\nRecall = 0.6544980495183504\nPrecision = 0.19436709991398454\n"
     ]
    }
   ],
   "source": [
    "print('Average Cross Validation Results')\n",
    "print('Accuracy =',np.average(cv_scores.test_accuracy))\n",
    "print('Recall =',np.average(cv_scores.test_recall))\n",
    "print('Precision =',np.average(cv_scores.test_precision))"
   ]
  },
  {
   "cell_type": "code",
   "execution_count": 18,
   "metadata": {},
   "outputs": [],
   "source": [
    "#checking manually"
   ]
  },
  {
   "cell_type": "code",
   "execution_count": 19,
   "metadata": {},
   "outputs": [
    {
     "output_type": "error",
     "ename": "ValueError",
     "evalue": "class_weight must be dict, 'balanced', or None, got: 'auto'",
     "traceback": [
      "\u001b[1;31m---------------------------------------------------------------------------\u001b[0m",
      "\u001b[1;31mValueError\u001b[0m                                Traceback (most recent call last)",
      "\u001b[1;32m<ipython-input-19-70ba3310ea79>\u001b[0m in \u001b[0;36m<module>\u001b[1;34m\u001b[0m\n\u001b[0;32m      1\u001b[0m \u001b[0mmodel2\u001b[0m \u001b[1;33m=\u001b[0m \u001b[0mLogisticRegression\u001b[0m\u001b[1;33m(\u001b[0m\u001b[0mpenalty\u001b[0m\u001b[1;33m=\u001b[0m\u001b[1;34m'l1'\u001b[0m\u001b[1;33m,\u001b[0m\u001b[0mclass_weight\u001b[0m\u001b[1;33m=\u001b[0m\u001b[1;34m'auto'\u001b[0m\u001b[1;33m,\u001b[0m\u001b[0msolver\u001b[0m\u001b[1;33m=\u001b[0m\u001b[1;34m'liblinear'\u001b[0m\u001b[1;33m)\u001b[0m\u001b[1;33m\u001b[0m\u001b[1;33m\u001b[0m\u001b[0m\n\u001b[1;32m----> 2\u001b[1;33m \u001b[0mhist\u001b[0m \u001b[1;33m=\u001b[0m \u001b[0mmodel2\u001b[0m\u001b[1;33m.\u001b[0m\u001b[0mfit\u001b[0m\u001b[1;33m(\u001b[0m\u001b[0mdf_trainX\u001b[0m\u001b[1;33m,\u001b[0m\u001b[0mdf_trainY\u001b[0m\u001b[1;33m)\u001b[0m\u001b[1;33m\u001b[0m\u001b[1;33m\u001b[0m\u001b[0m\n\u001b[0m\u001b[0;32m      3\u001b[0m \u001b[0mdf_validYPred\u001b[0m \u001b[1;33m=\u001b[0m \u001b[0mmodel2\u001b[0m\u001b[1;33m.\u001b[0m\u001b[0mpredict\u001b[0m\u001b[1;33m(\u001b[0m\u001b[0mdf_validX\u001b[0m\u001b[1;33m)\u001b[0m\u001b[1;33m\u001b[0m\u001b[1;33m\u001b[0m\u001b[0m\n\u001b[0;32m      4\u001b[0m \u001b[0mdf_validYPredProba\u001b[0m \u001b[1;33m=\u001b[0m \u001b[0mmodel2\u001b[0m\u001b[1;33m.\u001b[0m\u001b[0mpredict_proba\u001b[0m\u001b[1;33m(\u001b[0m\u001b[0mdf_validX\u001b[0m\u001b[1;33m)\u001b[0m\u001b[1;33m\u001b[0m\u001b[1;33m\u001b[0m\u001b[0m\n",
      "\u001b[1;32mD:\\Software\\Anaconda\\lib\\site-packages\\sklearn\\linear_model\\_logistic.py\u001b[0m in \u001b[0;36mfit\u001b[1;34m(self, X, y, sample_weight)\u001b[0m\n\u001b[0;32m   1354\u001b[0m                               \u001b[1;34m\" 'solver' is set to 'liblinear'. Got 'n_jobs'\"\u001b[0m\u001b[1;33m\u001b[0m\u001b[1;33m\u001b[0m\u001b[0m\n\u001b[0;32m   1355\u001b[0m                               \" = {}.\".format(effective_n_jobs(self.n_jobs)))\n\u001b[1;32m-> 1356\u001b[1;33m             self.coef_, self.intercept_, n_iter_ = _fit_liblinear(\n\u001b[0m\u001b[0;32m   1357\u001b[0m                 \u001b[0mX\u001b[0m\u001b[1;33m,\u001b[0m \u001b[0my\u001b[0m\u001b[1;33m,\u001b[0m \u001b[0mself\u001b[0m\u001b[1;33m.\u001b[0m\u001b[0mC\u001b[0m\u001b[1;33m,\u001b[0m \u001b[0mself\u001b[0m\u001b[1;33m.\u001b[0m\u001b[0mfit_intercept\u001b[0m\u001b[1;33m,\u001b[0m \u001b[0mself\u001b[0m\u001b[1;33m.\u001b[0m\u001b[0mintercept_scaling\u001b[0m\u001b[1;33m,\u001b[0m\u001b[1;33m\u001b[0m\u001b[1;33m\u001b[0m\u001b[0m\n\u001b[0;32m   1358\u001b[0m                 \u001b[0mself\u001b[0m\u001b[1;33m.\u001b[0m\u001b[0mclass_weight\u001b[0m\u001b[1;33m,\u001b[0m \u001b[0mself\u001b[0m\u001b[1;33m.\u001b[0m\u001b[0mpenalty\u001b[0m\u001b[1;33m,\u001b[0m \u001b[0mself\u001b[0m\u001b[1;33m.\u001b[0m\u001b[0mdual\u001b[0m\u001b[1;33m,\u001b[0m \u001b[0mself\u001b[0m\u001b[1;33m.\u001b[0m\u001b[0mverbose\u001b[0m\u001b[1;33m,\u001b[0m\u001b[1;33m\u001b[0m\u001b[1;33m\u001b[0m\u001b[0m\n",
      "\u001b[1;32mD:\\Software\\Anaconda\\lib\\site-packages\\sklearn\\svm\\_base.py\u001b[0m in \u001b[0;36m_fit_liblinear\u001b[1;34m(X, y, C, fit_intercept, intercept_scaling, class_weight, penalty, dual, verbose, max_iter, tol, random_state, multi_class, loss, epsilon, sample_weight)\u001b[0m\n\u001b[0;32m    928\u001b[0m                              \" class: %r\" % classes_[0])\n\u001b[0;32m    929\u001b[0m \u001b[1;33m\u001b[0m\u001b[0m\n\u001b[1;32m--> 930\u001b[1;33m         class_weight_ = compute_class_weight(class_weight, classes=classes_,\n\u001b[0m\u001b[0;32m    931\u001b[0m                                              y=y)\n\u001b[0;32m    932\u001b[0m     \u001b[1;32melse\u001b[0m\u001b[1;33m:\u001b[0m\u001b[1;33m\u001b[0m\u001b[1;33m\u001b[0m\u001b[0m\n",
      "\u001b[1;32mD:\\Software\\Anaconda\\lib\\site-packages\\sklearn\\utils\\validation.py\u001b[0m in \u001b[0;36minner_f\u001b[1;34m(*args, **kwargs)\u001b[0m\n\u001b[0;32m     70\u001b[0m                           FutureWarning)\n\u001b[0;32m     71\u001b[0m         \u001b[0mkwargs\u001b[0m\u001b[1;33m.\u001b[0m\u001b[0mupdate\u001b[0m\u001b[1;33m(\u001b[0m\u001b[1;33m{\u001b[0m\u001b[0mk\u001b[0m\u001b[1;33m:\u001b[0m \u001b[0marg\u001b[0m \u001b[1;32mfor\u001b[0m \u001b[0mk\u001b[0m\u001b[1;33m,\u001b[0m \u001b[0marg\u001b[0m \u001b[1;32min\u001b[0m \u001b[0mzip\u001b[0m\u001b[1;33m(\u001b[0m\u001b[0msig\u001b[0m\u001b[1;33m.\u001b[0m\u001b[0mparameters\u001b[0m\u001b[1;33m,\u001b[0m \u001b[0margs\u001b[0m\u001b[1;33m)\u001b[0m\u001b[1;33m}\u001b[0m\u001b[1;33m)\u001b[0m\u001b[1;33m\u001b[0m\u001b[1;33m\u001b[0m\u001b[0m\n\u001b[1;32m---> 72\u001b[1;33m         \u001b[1;32mreturn\u001b[0m \u001b[0mf\u001b[0m\u001b[1;33m(\u001b[0m\u001b[1;33m**\u001b[0m\u001b[0mkwargs\u001b[0m\u001b[1;33m)\u001b[0m\u001b[1;33m\u001b[0m\u001b[1;33m\u001b[0m\u001b[0m\n\u001b[0m\u001b[0;32m     73\u001b[0m     \u001b[1;32mreturn\u001b[0m \u001b[0minner_f\u001b[0m\u001b[1;33m\u001b[0m\u001b[1;33m\u001b[0m\u001b[0m\n\u001b[0;32m     74\u001b[0m \u001b[1;33m\u001b[0m\u001b[0m\n",
      "\u001b[1;32mD:\\Software\\Anaconda\\lib\\site-packages\\sklearn\\utils\\class_weight.py\u001b[0m in \u001b[0;36mcompute_class_weight\u001b[1;34m(class_weight, classes, y)\u001b[0m\n\u001b[0;32m     61\u001b[0m         \u001b[0mweight\u001b[0m \u001b[1;33m=\u001b[0m \u001b[0mnp\u001b[0m\u001b[1;33m.\u001b[0m\u001b[0mones\u001b[0m\u001b[1;33m(\u001b[0m\u001b[0mclasses\u001b[0m\u001b[1;33m.\u001b[0m\u001b[0mshape\u001b[0m\u001b[1;33m[\u001b[0m\u001b[1;36m0\u001b[0m\u001b[1;33m]\u001b[0m\u001b[1;33m,\u001b[0m \u001b[0mdtype\u001b[0m\u001b[1;33m=\u001b[0m\u001b[0mnp\u001b[0m\u001b[1;33m.\u001b[0m\u001b[0mfloat64\u001b[0m\u001b[1;33m,\u001b[0m \u001b[0morder\u001b[0m\u001b[1;33m=\u001b[0m\u001b[1;34m'C'\u001b[0m\u001b[1;33m)\u001b[0m\u001b[1;33m\u001b[0m\u001b[1;33m\u001b[0m\u001b[0m\n\u001b[0;32m     62\u001b[0m         \u001b[1;32mif\u001b[0m \u001b[1;32mnot\u001b[0m \u001b[0misinstance\u001b[0m\u001b[1;33m(\u001b[0m\u001b[0mclass_weight\u001b[0m\u001b[1;33m,\u001b[0m \u001b[0mdict\u001b[0m\u001b[1;33m)\u001b[0m\u001b[1;33m:\u001b[0m\u001b[1;33m\u001b[0m\u001b[1;33m\u001b[0m\u001b[0m\n\u001b[1;32m---> 63\u001b[1;33m             raise ValueError(\"class_weight must be dict, 'balanced', or None,\"\n\u001b[0m\u001b[0;32m     64\u001b[0m                              \" got: %r\" % class_weight)\n\u001b[0;32m     65\u001b[0m         \u001b[1;32mfor\u001b[0m \u001b[0mc\u001b[0m \u001b[1;32min\u001b[0m \u001b[0mclass_weight\u001b[0m\u001b[1;33m:\u001b[0m\u001b[1;33m\u001b[0m\u001b[1;33m\u001b[0m\u001b[0m\n",
      "\u001b[1;31mValueError\u001b[0m: class_weight must be dict, 'balanced', or None, got: 'auto'"
     ]
    }
   ],
   "source": [
    "model2 = LogisticRegression(penalty='l1',class_weight='balanced',solver='liblinear')\n",
    "hist = model2.fit(df_trainX,df_trainY)\n",
    "df_validYPred = model2.predict(df_validX)\n",
    "df_validYPredProba = model2.predict_proba(df_validX)"
   ]
  },
  {
   "cell_type": "code",
   "execution_count": 81,
   "metadata": {},
   "outputs": [],
   "source": [
    "def getMetrics(Ytrue,Ypred,YpredProb):\n",
    "    accScore = accuracy_score(Ytrue,Ypred)\n",
    "    recScore = recall_score(Ytrue,Ypred)\n",
    "    preScore = precision_score(Ytrue,Ypred)\n",
    "    print('Accuracy =',accScore)\n",
    "    print('Recall =',recScore)\n",
    "    print('Precision =',preScore)\n",
    "    print('--------------------------')\n",
    "    print('Confusion Matrix')\n",
    "    print(pd.crosstab(pd.Series(Ytrue.values,name='Actual'),pd.Series(Ypred,name='Predicted')))\n",
    "    print('--------------------------')\n",
    "    print('F1 Score', f1_score(Ytrue,Ypred))\n",
    "    fpr, tpr, thresholds = roc_curve(Ytrue, YpredProb, pos_label=1)\n",
    "    print('Roc Auc Score = ',roc_auc_score(Ytrue,YpredProb))\n",
    "    #print(fpr,tpr)\n",
    "    display = RocCurveDisplay(fpr=fpr,tpr=tpr)\n",
    "    display.plot()\n",
    "    plt.show()"
   ]
  },
  {
   "cell_type": "code",
   "execution_count": 82,
   "metadata": {},
   "outputs": [
    {
     "output_type": "stream",
     "name": "stdout",
     "text": [
      "Accuracy = 0.7903333333333333\nRecall = 0.6081081081081081\nPrecision = 0.19940915805022155\n--------------------------\nConfusion Matrix\nPredicted   0.0  1.0\nActual              \n0.0        2236  542\n1.0          87  135\n--------------------------\nF1 Score 0.3003337041156841\nRoc Auc Score =  0.7841242970832605\n"
     ]
    },
    {
     "output_type": "display_data",
     "data": {
      "text/plain": "<Figure size 432x288 with 1 Axes>",
      "image/svg+xml": "<?xml version=\"1.0\" encoding=\"utf-8\" standalone=\"no\"?>\r\n<!DOCTYPE svg PUBLIC \"-//W3C//DTD SVG 1.1//EN\"\r\n  \"http://www.w3.org/Graphics/SVG/1.1/DTD/svg11.dtd\">\r\n<!-- Created with matplotlib (https://matplotlib.org/) -->\r\n<svg height=\"262.19625pt\" version=\"1.1\" viewBox=\"0 0 385.78125 262.19625\" width=\"385.78125pt\" xmlns=\"http://www.w3.org/2000/svg\" xmlns:xlink=\"http://www.w3.org/1999/xlink\">\r\n <metadata>\r\n  <rdf:RDF xmlns:cc=\"http://creativecommons.org/ns#\" xmlns:dc=\"http://purl.org/dc/elements/1.1/\" xmlns:rdf=\"http://www.w3.org/1999/02/22-rdf-syntax-ns#\">\r\n   <cc:Work>\r\n    <dc:type rdf:resource=\"http://purl.org/dc/dcmitype/StillImage\"/>\r\n    <dc:date>2021-04-03T16:30:32.626243</dc:date>\r\n    <dc:format>image/svg+xml</dc:format>\r\n    <dc:creator>\r\n     <cc:Agent>\r\n      <dc:title>Matplotlib v3.3.2, https://matplotlib.org/</dc:title>\r\n     </cc:Agent>\r\n    </dc:creator>\r\n   </cc:Work>\r\n  </rdf:RDF>\r\n </metadata>\r\n <defs>\r\n  <style type=\"text/css\">*{stroke-linecap:butt;stroke-linejoin:round;}</style>\r\n </defs>\r\n <g id=\"figure_1\">\r\n  <g id=\"patch_1\">\r\n   <path d=\"M 0 262.19625 \r\nL 385.78125 262.19625 \r\nL 385.78125 0 \r\nL 0 0 \r\nz\r\n\" style=\"fill:none;\"/>\r\n  </g>\r\n  <g id=\"axes_1\">\r\n   <g id=\"patch_2\">\r\n    <path d=\"M 43.78125 224.64 \r\nL 378.58125 224.64 \r\nL 378.58125 7.2 \r\nL 43.78125 7.2 \r\nz\r\n\" style=\"fill:#ffffff;\"/>\r\n   </g>\r\n   <g id=\"matplotlib.axis_1\">\r\n    <g id=\"xtick_1\">\r\n     <g id=\"line2d_1\">\r\n      <defs>\r\n       <path d=\"M 0 0 \r\nL 0 3.5 \r\n\" id=\"m0a6441ad86\" style=\"stroke:#000000;stroke-width:0.8;\"/>\r\n      </defs>\r\n      <g>\r\n       <use style=\"stroke:#000000;stroke-width:0.8;\" x=\"58.999432\" xlink:href=\"#m0a6441ad86\" y=\"224.64\"/>\r\n      </g>\r\n     </g>\r\n     <g id=\"text_1\">\r\n      <!-- 0.0 -->\r\n      <g transform=\"translate(51.047869 239.238437)scale(0.1 -0.1)\">\r\n       <defs>\r\n        <path d=\"M 31.78125 66.40625 \r\nQ 24.171875 66.40625 20.328125 58.90625 \r\nQ 16.5 51.421875 16.5 36.375 \r\nQ 16.5 21.390625 20.328125 13.890625 \r\nQ 24.171875 6.390625 31.78125 6.390625 \r\nQ 39.453125 6.390625 43.28125 13.890625 \r\nQ 47.125 21.390625 47.125 36.375 \r\nQ 47.125 51.421875 43.28125 58.90625 \r\nQ 39.453125 66.40625 31.78125 66.40625 \r\nz\r\nM 31.78125 74.21875 \r\nQ 44.046875 74.21875 50.515625 64.515625 \r\nQ 56.984375 54.828125 56.984375 36.375 \r\nQ 56.984375 17.96875 50.515625 8.265625 \r\nQ 44.046875 -1.421875 31.78125 -1.421875 \r\nQ 19.53125 -1.421875 13.0625 8.265625 \r\nQ 6.59375 17.96875 6.59375 36.375 \r\nQ 6.59375 54.828125 13.0625 64.515625 \r\nQ 19.53125 74.21875 31.78125 74.21875 \r\nz\r\n\" id=\"DejaVuSans-48\"/>\r\n        <path d=\"M 10.6875 12.40625 \r\nL 21 12.40625 \r\nL 21 0 \r\nL 10.6875 0 \r\nz\r\n\" id=\"DejaVuSans-46\"/>\r\n       </defs>\r\n       <use xlink:href=\"#DejaVuSans-48\"/>\r\n       <use x=\"63.623047\" xlink:href=\"#DejaVuSans-46\"/>\r\n       <use x=\"95.410156\" xlink:href=\"#DejaVuSans-48\"/>\r\n      </g>\r\n     </g>\r\n    </g>\r\n    <g id=\"xtick_2\">\r\n     <g id=\"line2d_2\">\r\n      <g>\r\n       <use style=\"stroke:#000000;stroke-width:0.8;\" x=\"119.872159\" xlink:href=\"#m0a6441ad86\" y=\"224.64\"/>\r\n      </g>\r\n     </g>\r\n     <g id=\"text_2\">\r\n      <!-- 0.2 -->\r\n      <g transform=\"translate(111.920597 239.238437)scale(0.1 -0.1)\">\r\n       <defs>\r\n        <path d=\"M 19.1875 8.296875 \r\nL 53.609375 8.296875 \r\nL 53.609375 0 \r\nL 7.328125 0 \r\nL 7.328125 8.296875 \r\nQ 12.9375 14.109375 22.625 23.890625 \r\nQ 32.328125 33.6875 34.8125 36.53125 \r\nQ 39.546875 41.84375 41.421875 45.53125 \r\nQ 43.3125 49.21875 43.3125 52.78125 \r\nQ 43.3125 58.59375 39.234375 62.25 \r\nQ 35.15625 65.921875 28.609375 65.921875 \r\nQ 23.96875 65.921875 18.8125 64.3125 \r\nQ 13.671875 62.703125 7.8125 59.421875 \r\nL 7.8125 69.390625 \r\nQ 13.765625 71.78125 18.9375 73 \r\nQ 24.125 74.21875 28.421875 74.21875 \r\nQ 39.75 74.21875 46.484375 68.546875 \r\nQ 53.21875 62.890625 53.21875 53.421875 \r\nQ 53.21875 48.921875 51.53125 44.890625 \r\nQ 49.859375 40.875 45.40625 35.40625 \r\nQ 44.1875 33.984375 37.640625 27.21875 \r\nQ 31.109375 20.453125 19.1875 8.296875 \r\nz\r\n\" id=\"DejaVuSans-50\"/>\r\n       </defs>\r\n       <use xlink:href=\"#DejaVuSans-48\"/>\r\n       <use x=\"63.623047\" xlink:href=\"#DejaVuSans-46\"/>\r\n       <use x=\"95.410156\" xlink:href=\"#DejaVuSans-50\"/>\r\n      </g>\r\n     </g>\r\n    </g>\r\n    <g id=\"xtick_3\">\r\n     <g id=\"line2d_3\">\r\n      <g>\r\n       <use style=\"stroke:#000000;stroke-width:0.8;\" x=\"180.744886\" xlink:href=\"#m0a6441ad86\" y=\"224.64\"/>\r\n      </g>\r\n     </g>\r\n     <g id=\"text_3\">\r\n      <!-- 0.4 -->\r\n      <g transform=\"translate(172.793324 239.238437)scale(0.1 -0.1)\">\r\n       <defs>\r\n        <path d=\"M 37.796875 64.3125 \r\nL 12.890625 25.390625 \r\nL 37.796875 25.390625 \r\nz\r\nM 35.203125 72.90625 \r\nL 47.609375 72.90625 \r\nL 47.609375 25.390625 \r\nL 58.015625 25.390625 \r\nL 58.015625 17.1875 \r\nL 47.609375 17.1875 \r\nL 47.609375 0 \r\nL 37.796875 0 \r\nL 37.796875 17.1875 \r\nL 4.890625 17.1875 \r\nL 4.890625 26.703125 \r\nz\r\n\" id=\"DejaVuSans-52\"/>\r\n       </defs>\r\n       <use xlink:href=\"#DejaVuSans-48\"/>\r\n       <use x=\"63.623047\" xlink:href=\"#DejaVuSans-46\"/>\r\n       <use x=\"95.410156\" xlink:href=\"#DejaVuSans-52\"/>\r\n      </g>\r\n     </g>\r\n    </g>\r\n    <g id=\"xtick_4\">\r\n     <g id=\"line2d_4\">\r\n      <g>\r\n       <use style=\"stroke:#000000;stroke-width:0.8;\" x=\"241.617614\" xlink:href=\"#m0a6441ad86\" y=\"224.64\"/>\r\n      </g>\r\n     </g>\r\n     <g id=\"text_4\">\r\n      <!-- 0.6 -->\r\n      <g transform=\"translate(233.666051 239.238437)scale(0.1 -0.1)\">\r\n       <defs>\r\n        <path d=\"M 33.015625 40.375 \r\nQ 26.375 40.375 22.484375 35.828125 \r\nQ 18.609375 31.296875 18.609375 23.390625 \r\nQ 18.609375 15.53125 22.484375 10.953125 \r\nQ 26.375 6.390625 33.015625 6.390625 \r\nQ 39.65625 6.390625 43.53125 10.953125 \r\nQ 47.40625 15.53125 47.40625 23.390625 \r\nQ 47.40625 31.296875 43.53125 35.828125 \r\nQ 39.65625 40.375 33.015625 40.375 \r\nz\r\nM 52.59375 71.296875 \r\nL 52.59375 62.3125 \r\nQ 48.875 64.0625 45.09375 64.984375 \r\nQ 41.3125 65.921875 37.59375 65.921875 \r\nQ 27.828125 65.921875 22.671875 59.328125 \r\nQ 17.53125 52.734375 16.796875 39.40625 \r\nQ 19.671875 43.65625 24.015625 45.921875 \r\nQ 28.375 48.1875 33.59375 48.1875 \r\nQ 44.578125 48.1875 50.953125 41.515625 \r\nQ 57.328125 34.859375 57.328125 23.390625 \r\nQ 57.328125 12.15625 50.6875 5.359375 \r\nQ 44.046875 -1.421875 33.015625 -1.421875 \r\nQ 20.359375 -1.421875 13.671875 8.265625 \r\nQ 6.984375 17.96875 6.984375 36.375 \r\nQ 6.984375 53.65625 15.1875 63.9375 \r\nQ 23.390625 74.21875 37.203125 74.21875 \r\nQ 40.921875 74.21875 44.703125 73.484375 \r\nQ 48.484375 72.75 52.59375 71.296875 \r\nz\r\n\" id=\"DejaVuSans-54\"/>\r\n       </defs>\r\n       <use xlink:href=\"#DejaVuSans-48\"/>\r\n       <use x=\"63.623047\" xlink:href=\"#DejaVuSans-46\"/>\r\n       <use x=\"95.410156\" xlink:href=\"#DejaVuSans-54\"/>\r\n      </g>\r\n     </g>\r\n    </g>\r\n    <g id=\"xtick_5\">\r\n     <g id=\"line2d_5\">\r\n      <g>\r\n       <use style=\"stroke:#000000;stroke-width:0.8;\" x=\"302.490341\" xlink:href=\"#m0a6441ad86\" y=\"224.64\"/>\r\n      </g>\r\n     </g>\r\n     <g id=\"text_5\">\r\n      <!-- 0.8 -->\r\n      <g transform=\"translate(294.538778 239.238437)scale(0.1 -0.1)\">\r\n       <defs>\r\n        <path d=\"M 31.78125 34.625 \r\nQ 24.75 34.625 20.71875 30.859375 \r\nQ 16.703125 27.09375 16.703125 20.515625 \r\nQ 16.703125 13.921875 20.71875 10.15625 \r\nQ 24.75 6.390625 31.78125 6.390625 \r\nQ 38.8125 6.390625 42.859375 10.171875 \r\nQ 46.921875 13.96875 46.921875 20.515625 \r\nQ 46.921875 27.09375 42.890625 30.859375 \r\nQ 38.875 34.625 31.78125 34.625 \r\nz\r\nM 21.921875 38.8125 \r\nQ 15.578125 40.375 12.03125 44.71875 \r\nQ 8.5 49.078125 8.5 55.328125 \r\nQ 8.5 64.0625 14.71875 69.140625 \r\nQ 20.953125 74.21875 31.78125 74.21875 \r\nQ 42.671875 74.21875 48.875 69.140625 \r\nQ 55.078125 64.0625 55.078125 55.328125 \r\nQ 55.078125 49.078125 51.53125 44.71875 \r\nQ 48 40.375 41.703125 38.8125 \r\nQ 48.828125 37.15625 52.796875 32.3125 \r\nQ 56.78125 27.484375 56.78125 20.515625 \r\nQ 56.78125 9.90625 50.3125 4.234375 \r\nQ 43.84375 -1.421875 31.78125 -1.421875 \r\nQ 19.734375 -1.421875 13.25 4.234375 \r\nQ 6.78125 9.90625 6.78125 20.515625 \r\nQ 6.78125 27.484375 10.78125 32.3125 \r\nQ 14.796875 37.15625 21.921875 38.8125 \r\nz\r\nM 18.3125 54.390625 \r\nQ 18.3125 48.734375 21.84375 45.5625 \r\nQ 25.390625 42.390625 31.78125 42.390625 \r\nQ 38.140625 42.390625 41.71875 45.5625 \r\nQ 45.3125 48.734375 45.3125 54.390625 \r\nQ 45.3125 60.0625 41.71875 63.234375 \r\nQ 38.140625 66.40625 31.78125 66.40625 \r\nQ 25.390625 66.40625 21.84375 63.234375 \r\nQ 18.3125 60.0625 18.3125 54.390625 \r\nz\r\n\" id=\"DejaVuSans-56\"/>\r\n       </defs>\r\n       <use xlink:href=\"#DejaVuSans-48\"/>\r\n       <use x=\"63.623047\" xlink:href=\"#DejaVuSans-46\"/>\r\n       <use x=\"95.410156\" xlink:href=\"#DejaVuSans-56\"/>\r\n      </g>\r\n     </g>\r\n    </g>\r\n    <g id=\"xtick_6\">\r\n     <g id=\"line2d_6\">\r\n      <g>\r\n       <use style=\"stroke:#000000;stroke-width:0.8;\" x=\"363.363068\" xlink:href=\"#m0a6441ad86\" y=\"224.64\"/>\r\n      </g>\r\n     </g>\r\n     <g id=\"text_6\">\r\n      <!-- 1.0 -->\r\n      <g transform=\"translate(355.411506 239.238437)scale(0.1 -0.1)\">\r\n       <defs>\r\n        <path d=\"M 12.40625 8.296875 \r\nL 28.515625 8.296875 \r\nL 28.515625 63.921875 \r\nL 10.984375 60.40625 \r\nL 10.984375 69.390625 \r\nL 28.421875 72.90625 \r\nL 38.28125 72.90625 \r\nL 38.28125 8.296875 \r\nL 54.390625 8.296875 \r\nL 54.390625 0 \r\nL 12.40625 0 \r\nz\r\n\" id=\"DejaVuSans-49\"/>\r\n       </defs>\r\n       <use xlink:href=\"#DejaVuSans-49\"/>\r\n       <use x=\"63.623047\" xlink:href=\"#DejaVuSans-46\"/>\r\n       <use x=\"95.410156\" xlink:href=\"#DejaVuSans-48\"/>\r\n      </g>\r\n     </g>\r\n    </g>\r\n    <g id=\"text_7\">\r\n     <!-- False Positive Rate -->\r\n     <g transform=\"translate(164.714844 252.916562)scale(0.1 -0.1)\">\r\n      <defs>\r\n       <path d=\"M 9.8125 72.90625 \r\nL 51.703125 72.90625 \r\nL 51.703125 64.59375 \r\nL 19.671875 64.59375 \r\nL 19.671875 43.109375 \r\nL 48.578125 43.109375 \r\nL 48.578125 34.8125 \r\nL 19.671875 34.8125 \r\nL 19.671875 0 \r\nL 9.8125 0 \r\nz\r\n\" id=\"DejaVuSans-70\"/>\r\n       <path d=\"M 34.28125 27.484375 \r\nQ 23.390625 27.484375 19.1875 25 \r\nQ 14.984375 22.515625 14.984375 16.5 \r\nQ 14.984375 11.71875 18.140625 8.90625 \r\nQ 21.296875 6.109375 26.703125 6.109375 \r\nQ 34.1875 6.109375 38.703125 11.40625 \r\nQ 43.21875 16.703125 43.21875 25.484375 \r\nL 43.21875 27.484375 \r\nz\r\nM 52.203125 31.203125 \r\nL 52.203125 0 \r\nL 43.21875 0 \r\nL 43.21875 8.296875 \r\nQ 40.140625 3.328125 35.546875 0.953125 \r\nQ 30.953125 -1.421875 24.3125 -1.421875 \r\nQ 15.921875 -1.421875 10.953125 3.296875 \r\nQ 6 8.015625 6 15.921875 \r\nQ 6 25.140625 12.171875 29.828125 \r\nQ 18.359375 34.515625 30.609375 34.515625 \r\nL 43.21875 34.515625 \r\nL 43.21875 35.40625 \r\nQ 43.21875 41.609375 39.140625 45 \r\nQ 35.0625 48.390625 27.6875 48.390625 \r\nQ 23 48.390625 18.546875 47.265625 \r\nQ 14.109375 46.140625 10.015625 43.890625 \r\nL 10.015625 52.203125 \r\nQ 14.9375 54.109375 19.578125 55.046875 \r\nQ 24.21875 56 28.609375 56 \r\nQ 40.484375 56 46.34375 49.84375 \r\nQ 52.203125 43.703125 52.203125 31.203125 \r\nz\r\n\" id=\"DejaVuSans-97\"/>\r\n       <path d=\"M 9.421875 75.984375 \r\nL 18.40625 75.984375 \r\nL 18.40625 0 \r\nL 9.421875 0 \r\nz\r\n\" id=\"DejaVuSans-108\"/>\r\n       <path d=\"M 44.28125 53.078125 \r\nL 44.28125 44.578125 \r\nQ 40.484375 46.53125 36.375 47.5 \r\nQ 32.28125 48.484375 27.875 48.484375 \r\nQ 21.1875 48.484375 17.84375 46.4375 \r\nQ 14.5 44.390625 14.5 40.28125 \r\nQ 14.5 37.15625 16.890625 35.375 \r\nQ 19.28125 33.59375 26.515625 31.984375 \r\nL 29.59375 31.296875 \r\nQ 39.15625 29.25 43.1875 25.515625 \r\nQ 47.21875 21.78125 47.21875 15.09375 \r\nQ 47.21875 7.46875 41.1875 3.015625 \r\nQ 35.15625 -1.421875 24.609375 -1.421875 \r\nQ 20.21875 -1.421875 15.453125 -0.5625 \r\nQ 10.6875 0.296875 5.421875 2 \r\nL 5.421875 11.28125 \r\nQ 10.40625 8.6875 15.234375 7.390625 \r\nQ 20.0625 6.109375 24.8125 6.109375 \r\nQ 31.15625 6.109375 34.5625 8.28125 \r\nQ 37.984375 10.453125 37.984375 14.40625 \r\nQ 37.984375 18.0625 35.515625 20.015625 \r\nQ 33.0625 21.96875 24.703125 23.78125 \r\nL 21.578125 24.515625 \r\nQ 13.234375 26.265625 9.515625 29.90625 \r\nQ 5.8125 33.546875 5.8125 39.890625 \r\nQ 5.8125 47.609375 11.28125 51.796875 \r\nQ 16.75 56 26.8125 56 \r\nQ 31.78125 56 36.171875 55.265625 \r\nQ 40.578125 54.546875 44.28125 53.078125 \r\nz\r\n\" id=\"DejaVuSans-115\"/>\r\n       <path d=\"M 56.203125 29.59375 \r\nL 56.203125 25.203125 \r\nL 14.890625 25.203125 \r\nQ 15.484375 15.921875 20.484375 11.0625 \r\nQ 25.484375 6.203125 34.421875 6.203125 \r\nQ 39.59375 6.203125 44.453125 7.46875 \r\nQ 49.3125 8.734375 54.109375 11.28125 \r\nL 54.109375 2.78125 \r\nQ 49.265625 0.734375 44.1875 -0.34375 \r\nQ 39.109375 -1.421875 33.890625 -1.421875 \r\nQ 20.796875 -1.421875 13.15625 6.1875 \r\nQ 5.515625 13.8125 5.515625 26.8125 \r\nQ 5.515625 40.234375 12.765625 48.109375 \r\nQ 20.015625 56 32.328125 56 \r\nQ 43.359375 56 49.78125 48.890625 \r\nQ 56.203125 41.796875 56.203125 29.59375 \r\nz\r\nM 47.21875 32.234375 \r\nQ 47.125 39.59375 43.09375 43.984375 \r\nQ 39.0625 48.390625 32.421875 48.390625 \r\nQ 24.90625 48.390625 20.390625 44.140625 \r\nQ 15.875 39.890625 15.1875 32.171875 \r\nz\r\n\" id=\"DejaVuSans-101\"/>\r\n       <path id=\"DejaVuSans-32\"/>\r\n       <path d=\"M 19.671875 64.796875 \r\nL 19.671875 37.40625 \r\nL 32.078125 37.40625 \r\nQ 38.96875 37.40625 42.71875 40.96875 \r\nQ 46.484375 44.53125 46.484375 51.125 \r\nQ 46.484375 57.671875 42.71875 61.234375 \r\nQ 38.96875 64.796875 32.078125 64.796875 \r\nz\r\nM 9.8125 72.90625 \r\nL 32.078125 72.90625 \r\nQ 44.34375 72.90625 50.609375 67.359375 \r\nQ 56.890625 61.8125 56.890625 51.125 \r\nQ 56.890625 40.328125 50.609375 34.8125 \r\nQ 44.34375 29.296875 32.078125 29.296875 \r\nL 19.671875 29.296875 \r\nL 19.671875 0 \r\nL 9.8125 0 \r\nz\r\n\" id=\"DejaVuSans-80\"/>\r\n       <path d=\"M 30.609375 48.390625 \r\nQ 23.390625 48.390625 19.1875 42.75 \r\nQ 14.984375 37.109375 14.984375 27.296875 \r\nQ 14.984375 17.484375 19.15625 11.84375 \r\nQ 23.34375 6.203125 30.609375 6.203125 \r\nQ 37.796875 6.203125 41.984375 11.859375 \r\nQ 46.1875 17.53125 46.1875 27.296875 \r\nQ 46.1875 37.015625 41.984375 42.703125 \r\nQ 37.796875 48.390625 30.609375 48.390625 \r\nz\r\nM 30.609375 56 \r\nQ 42.328125 56 49.015625 48.375 \r\nQ 55.71875 40.765625 55.71875 27.296875 \r\nQ 55.71875 13.875 49.015625 6.21875 \r\nQ 42.328125 -1.421875 30.609375 -1.421875 \r\nQ 18.84375 -1.421875 12.171875 6.21875 \r\nQ 5.515625 13.875 5.515625 27.296875 \r\nQ 5.515625 40.765625 12.171875 48.375 \r\nQ 18.84375 56 30.609375 56 \r\nz\r\n\" id=\"DejaVuSans-111\"/>\r\n       <path d=\"M 9.421875 54.6875 \r\nL 18.40625 54.6875 \r\nL 18.40625 0 \r\nL 9.421875 0 \r\nz\r\nM 9.421875 75.984375 \r\nL 18.40625 75.984375 \r\nL 18.40625 64.59375 \r\nL 9.421875 64.59375 \r\nz\r\n\" id=\"DejaVuSans-105\"/>\r\n       <path d=\"M 18.3125 70.21875 \r\nL 18.3125 54.6875 \r\nL 36.8125 54.6875 \r\nL 36.8125 47.703125 \r\nL 18.3125 47.703125 \r\nL 18.3125 18.015625 \r\nQ 18.3125 11.328125 20.140625 9.421875 \r\nQ 21.96875 7.515625 27.59375 7.515625 \r\nL 36.8125 7.515625 \r\nL 36.8125 0 \r\nL 27.59375 0 \r\nQ 17.1875 0 13.234375 3.875 \r\nQ 9.28125 7.765625 9.28125 18.015625 \r\nL 9.28125 47.703125 \r\nL 2.6875 47.703125 \r\nL 2.6875 54.6875 \r\nL 9.28125 54.6875 \r\nL 9.28125 70.21875 \r\nz\r\n\" id=\"DejaVuSans-116\"/>\r\n       <path d=\"M 2.984375 54.6875 \r\nL 12.5 54.6875 \r\nL 29.59375 8.796875 \r\nL 46.6875 54.6875 \r\nL 56.203125 54.6875 \r\nL 35.6875 0 \r\nL 23.484375 0 \r\nz\r\n\" id=\"DejaVuSans-118\"/>\r\n       <path d=\"M 44.390625 34.1875 \r\nQ 47.5625 33.109375 50.5625 29.59375 \r\nQ 53.5625 26.078125 56.59375 19.921875 \r\nL 66.609375 0 \r\nL 56 0 \r\nL 46.6875 18.703125 \r\nQ 43.0625 26.03125 39.671875 28.421875 \r\nQ 36.28125 30.8125 30.421875 30.8125 \r\nL 19.671875 30.8125 \r\nL 19.671875 0 \r\nL 9.8125 0 \r\nL 9.8125 72.90625 \r\nL 32.078125 72.90625 \r\nQ 44.578125 72.90625 50.734375 67.671875 \r\nQ 56.890625 62.453125 56.890625 51.90625 \r\nQ 56.890625 45.015625 53.6875 40.46875 \r\nQ 50.484375 35.9375 44.390625 34.1875 \r\nz\r\nM 19.671875 64.796875 \r\nL 19.671875 38.921875 \r\nL 32.078125 38.921875 \r\nQ 39.203125 38.921875 42.84375 42.21875 \r\nQ 46.484375 45.515625 46.484375 51.90625 \r\nQ 46.484375 58.296875 42.84375 61.546875 \r\nQ 39.203125 64.796875 32.078125 64.796875 \r\nz\r\n\" id=\"DejaVuSans-82\"/>\r\n      </defs>\r\n      <use xlink:href=\"#DejaVuSans-70\"/>\r\n      <use x=\"48.394531\" xlink:href=\"#DejaVuSans-97\"/>\r\n      <use x=\"109.673828\" xlink:href=\"#DejaVuSans-108\"/>\r\n      <use x=\"137.457031\" xlink:href=\"#DejaVuSans-115\"/>\r\n      <use x=\"189.556641\" xlink:href=\"#DejaVuSans-101\"/>\r\n      <use x=\"251.080078\" xlink:href=\"#DejaVuSans-32\"/>\r\n      <use x=\"282.867188\" xlink:href=\"#DejaVuSans-80\"/>\r\n      <use x=\"339.544922\" xlink:href=\"#DejaVuSans-111\"/>\r\n      <use x=\"400.726562\" xlink:href=\"#DejaVuSans-115\"/>\r\n      <use x=\"452.826172\" xlink:href=\"#DejaVuSans-105\"/>\r\n      <use x=\"480.609375\" xlink:href=\"#DejaVuSans-116\"/>\r\n      <use x=\"519.818359\" xlink:href=\"#DejaVuSans-105\"/>\r\n      <use x=\"547.601562\" xlink:href=\"#DejaVuSans-118\"/>\r\n      <use x=\"606.78125\" xlink:href=\"#DejaVuSans-101\"/>\r\n      <use x=\"668.304688\" xlink:href=\"#DejaVuSans-32\"/>\r\n      <use x=\"700.091797\" xlink:href=\"#DejaVuSans-82\"/>\r\n      <use x=\"767.324219\" xlink:href=\"#DejaVuSans-97\"/>\r\n      <use x=\"828.603516\" xlink:href=\"#DejaVuSans-116\"/>\r\n      <use x=\"867.8125\" xlink:href=\"#DejaVuSans-101\"/>\r\n     </g>\r\n    </g>\r\n   </g>\r\n   <g id=\"matplotlib.axis_2\">\r\n    <g id=\"ytick_1\">\r\n     <g id=\"line2d_7\">\r\n      <defs>\r\n       <path d=\"M 0 0 \r\nL -3.5 0 \r\n\" id=\"mab171a5234\" style=\"stroke:#000000;stroke-width:0.8;\"/>\r\n      </defs>\r\n      <g>\r\n       <use style=\"stroke:#000000;stroke-width:0.8;\" x=\"43.78125\" xlink:href=\"#mab171a5234\" y=\"214.756364\"/>\r\n      </g>\r\n     </g>\r\n     <g id=\"text_8\">\r\n      <!-- 0.0 -->\r\n      <g transform=\"translate(20.878125 218.555582)scale(0.1 -0.1)\">\r\n       <use xlink:href=\"#DejaVuSans-48\"/>\r\n       <use x=\"63.623047\" xlink:href=\"#DejaVuSans-46\"/>\r\n       <use x=\"95.410156\" xlink:href=\"#DejaVuSans-48\"/>\r\n      </g>\r\n     </g>\r\n    </g>\r\n    <g id=\"ytick_2\">\r\n     <g id=\"line2d_8\">\r\n      <g>\r\n       <use style=\"stroke:#000000;stroke-width:0.8;\" x=\"43.78125\" xlink:href=\"#mab171a5234\" y=\"175.221818\"/>\r\n      </g>\r\n     </g>\r\n     <g id=\"text_9\">\r\n      <!-- 0.2 -->\r\n      <g transform=\"translate(20.878125 179.021037)scale(0.1 -0.1)\">\r\n       <use xlink:href=\"#DejaVuSans-48\"/>\r\n       <use x=\"63.623047\" xlink:href=\"#DejaVuSans-46\"/>\r\n       <use x=\"95.410156\" xlink:href=\"#DejaVuSans-50\"/>\r\n      </g>\r\n     </g>\r\n    </g>\r\n    <g id=\"ytick_3\">\r\n     <g id=\"line2d_9\">\r\n      <g>\r\n       <use style=\"stroke:#000000;stroke-width:0.8;\" x=\"43.78125\" xlink:href=\"#mab171a5234\" y=\"135.687273\"/>\r\n      </g>\r\n     </g>\r\n     <g id=\"text_10\">\r\n      <!-- 0.4 -->\r\n      <g transform=\"translate(20.878125 139.486491)scale(0.1 -0.1)\">\r\n       <use xlink:href=\"#DejaVuSans-48\"/>\r\n       <use x=\"63.623047\" xlink:href=\"#DejaVuSans-46\"/>\r\n       <use x=\"95.410156\" xlink:href=\"#DejaVuSans-52\"/>\r\n      </g>\r\n     </g>\r\n    </g>\r\n    <g id=\"ytick_4\">\r\n     <g id=\"line2d_10\">\r\n      <g>\r\n       <use style=\"stroke:#000000;stroke-width:0.8;\" x=\"43.78125\" xlink:href=\"#mab171a5234\" y=\"96.152727\"/>\r\n      </g>\r\n     </g>\r\n     <g id=\"text_11\">\r\n      <!-- 0.6 -->\r\n      <g transform=\"translate(20.878125 99.951946)scale(0.1 -0.1)\">\r\n       <use xlink:href=\"#DejaVuSans-48\"/>\r\n       <use x=\"63.623047\" xlink:href=\"#DejaVuSans-46\"/>\r\n       <use x=\"95.410156\" xlink:href=\"#DejaVuSans-54\"/>\r\n      </g>\r\n     </g>\r\n    </g>\r\n    <g id=\"ytick_5\">\r\n     <g id=\"line2d_11\">\r\n      <g>\r\n       <use style=\"stroke:#000000;stroke-width:0.8;\" x=\"43.78125\" xlink:href=\"#mab171a5234\" y=\"56.618182\"/>\r\n      </g>\r\n     </g>\r\n     <g id=\"text_12\">\r\n      <!-- 0.8 -->\r\n      <g transform=\"translate(20.878125 60.417401)scale(0.1 -0.1)\">\r\n       <use xlink:href=\"#DejaVuSans-48\"/>\r\n       <use x=\"63.623047\" xlink:href=\"#DejaVuSans-46\"/>\r\n       <use x=\"95.410156\" xlink:href=\"#DejaVuSans-56\"/>\r\n      </g>\r\n     </g>\r\n    </g>\r\n    <g id=\"ytick_6\">\r\n     <g id=\"line2d_12\">\r\n      <g>\r\n       <use style=\"stroke:#000000;stroke-width:0.8;\" x=\"43.78125\" xlink:href=\"#mab171a5234\" y=\"17.083636\"/>\r\n      </g>\r\n     </g>\r\n     <g id=\"text_13\">\r\n      <!-- 1.0 -->\r\n      <g transform=\"translate(20.878125 20.882855)scale(0.1 -0.1)\">\r\n       <use xlink:href=\"#DejaVuSans-49\"/>\r\n       <use x=\"63.623047\" xlink:href=\"#DejaVuSans-46\"/>\r\n       <use x=\"95.410156\" xlink:href=\"#DejaVuSans-48\"/>\r\n      </g>\r\n     </g>\r\n    </g>\r\n    <g id=\"text_14\">\r\n     <!-- True Positive Rate -->\r\n     <g transform=\"translate(14.798438 160.449687)rotate(-90)scale(0.1 -0.1)\">\r\n      <defs>\r\n       <path d=\"M -0.296875 72.90625 \r\nL 61.375 72.90625 \r\nL 61.375 64.59375 \r\nL 35.5 64.59375 \r\nL 35.5 0 \r\nL 25.59375 0 \r\nL 25.59375 64.59375 \r\nL -0.296875 64.59375 \r\nz\r\n\" id=\"DejaVuSans-84\"/>\r\n       <path d=\"M 41.109375 46.296875 \r\nQ 39.59375 47.171875 37.8125 47.578125 \r\nQ 36.03125 48 33.890625 48 \r\nQ 26.265625 48 22.1875 43.046875 \r\nQ 18.109375 38.09375 18.109375 28.8125 \r\nL 18.109375 0 \r\nL 9.078125 0 \r\nL 9.078125 54.6875 \r\nL 18.109375 54.6875 \r\nL 18.109375 46.1875 \r\nQ 20.953125 51.171875 25.484375 53.578125 \r\nQ 30.03125 56 36.53125 56 \r\nQ 37.453125 56 38.578125 55.875 \r\nQ 39.703125 55.765625 41.0625 55.515625 \r\nz\r\n\" id=\"DejaVuSans-114\"/>\r\n       <path d=\"M 8.5 21.578125 \r\nL 8.5 54.6875 \r\nL 17.484375 54.6875 \r\nL 17.484375 21.921875 \r\nQ 17.484375 14.15625 20.5 10.265625 \r\nQ 23.53125 6.390625 29.59375 6.390625 \r\nQ 36.859375 6.390625 41.078125 11.03125 \r\nQ 45.3125 15.671875 45.3125 23.6875 \r\nL 45.3125 54.6875 \r\nL 54.296875 54.6875 \r\nL 54.296875 0 \r\nL 45.3125 0 \r\nL 45.3125 8.40625 \r\nQ 42.046875 3.421875 37.71875 1 \r\nQ 33.40625 -1.421875 27.6875 -1.421875 \r\nQ 18.265625 -1.421875 13.375 4.4375 \r\nQ 8.5 10.296875 8.5 21.578125 \r\nz\r\nM 31.109375 56 \r\nz\r\n\" id=\"DejaVuSans-117\"/>\r\n      </defs>\r\n      <use xlink:href=\"#DejaVuSans-84\"/>\r\n      <use x=\"46.333984\" xlink:href=\"#DejaVuSans-114\"/>\r\n      <use x=\"87.447266\" xlink:href=\"#DejaVuSans-117\"/>\r\n      <use x=\"150.826172\" xlink:href=\"#DejaVuSans-101\"/>\r\n      <use x=\"212.349609\" xlink:href=\"#DejaVuSans-32\"/>\r\n      <use x=\"244.136719\" xlink:href=\"#DejaVuSans-80\"/>\r\n      <use x=\"300.814453\" xlink:href=\"#DejaVuSans-111\"/>\r\n      <use x=\"361.996094\" xlink:href=\"#DejaVuSans-115\"/>\r\n      <use x=\"414.095703\" xlink:href=\"#DejaVuSans-105\"/>\r\n      <use x=\"441.878906\" xlink:href=\"#DejaVuSans-116\"/>\r\n      <use x=\"481.087891\" xlink:href=\"#DejaVuSans-105\"/>\r\n      <use x=\"508.871094\" xlink:href=\"#DejaVuSans-118\"/>\r\n      <use x=\"568.050781\" xlink:href=\"#DejaVuSans-101\"/>\r\n      <use x=\"629.574219\" xlink:href=\"#DejaVuSans-32\"/>\r\n      <use x=\"661.361328\" xlink:href=\"#DejaVuSans-82\"/>\r\n      <use x=\"728.59375\" xlink:href=\"#DejaVuSans-97\"/>\r\n      <use x=\"789.873047\" xlink:href=\"#DejaVuSans-116\"/>\r\n      <use x=\"829.082031\" xlink:href=\"#DejaVuSans-101\"/>\r\n     </g>\r\n    </g>\r\n   </g>\r\n   <g id=\"line2d_13\">\r\n    <path clip-path=\"url(#p1902c5fb1c)\" d=\"M 58.999432 214.756364 \r\nL 59.108994 201.400098 \r\nL 59.218556 201.400098 \r\nL 59.328118 191.605504 \r\nL 59.43768 191.605504 \r\nL 59.547243 182.701327 \r\nL 59.766367 182.701327 \r\nL 59.875929 178.249238 \r\nL 59.985491 178.249238 \r\nL 59.985491 177.358821 \r\nL 60.204615 177.358821 \r\nL 60.314178 174.687568 \r\nL 60.533302 174.687568 \r\nL 60.642864 170.235479 \r\nL 60.861988 170.235479 \r\nL 60.97155 164.892973 \r\nL 61.300237 164.892973 \r\nL 61.300237 162.22172 \r\nL 61.519361 162.22172 \r\nL 61.519361 160.440885 \r\nL 62.614983 160.440885 \r\nL 62.724545 157.769631 \r\nL 62.834107 157.769631 \r\nL 62.834107 155.988796 \r\nL 63.601042 155.988796 \r\nL 63.601042 154.207961 \r\nL 64.258415 154.207961 \r\nL 64.367977 151.536708 \r\nL 65.02535 151.536708 \r\nL 65.134912 149.755872 \r\nL 65.244474 149.755872 \r\nL 65.354036 147.975037 \r\nL 65.682723 147.975037 \r\nL 65.682723 146.194201 \r\nL 65.901847 146.194201 \r\nL 65.901847 144.413366 \r\nL 66.778344 144.413366 \r\nL 66.887906 142.632531 \r\nL 66.997468 142.632531 \r\nL 66.997468 141.742113 \r\nL 67.545279 141.742113 \r\nL 67.545279 139.961278 \r\nL 68.09309 139.961278 \r\nL 68.09309 139.07086 \r\nL 69.517398 139.07086 \r\nL 69.517398 138.180442 \r\nL 70.174771 138.180442 \r\nL 70.174771 137.290025 \r\nL 70.393895 137.290025 \r\nL 70.393895 136.399607 \r\nL 70.941706 136.399607 \r\nL 70.941706 135.509189 \r\nL 71.818203 135.509189 \r\nL 71.818203 132.837936 \r\nL 72.585138 132.837936 \r\nL 72.585138 131.947518 \r\nL 72.804262 131.947518 \r\nL 72.804262 131.057101 \r\nL 73.461635 131.057101 \r\nL 73.461635 130.166683 \r\nL 74.338132 130.166683 \r\nL 74.338132 129.276265 \r\nL 76.748499 129.276265 \r\nL 76.748499 128.385848 \r\nL 76.967623 128.385848 \r\nL 76.967623 127.49543 \r\nL 78.391931 127.49543 \r\nL 78.391931 126.605012 \r\nL 78.939742 126.605012 \r\nL 78.939742 125.714595 \r\nL 80.144926 125.714595 \r\nL 80.144926 124.824177 \r\nL 84.308287 124.824177 \r\nL 84.308287 123.933759 \r\nL 84.856098 123.933759 \r\nL 84.856098 123.043342 \r\nL 85.513471 123.043342 \r\nL 85.513471 121.262506 \r\nL 86.49953 121.262506 \r\nL 86.49953 120.372088 \r\nL 87.923838 120.372088 \r\nL 88.0334 117.700835 \r\nL 88.909897 117.700835 \r\nL 88.909897 115.92 \r\nL 91.648951 115.92 \r\nL 91.648951 115.029582 \r\nL 91.977637 115.029582 \r\nL 91.977637 114.139165 \r\nL 93.840194 114.139165 \r\nL 93.949756 112.358329 \r\nL 94.16888 112.358329 \r\nL 94.16888 110.577494 \r\nL 95.921874 110.577494 \r\nL 95.921874 109.687076 \r\nL 96.360123 109.687076 \r\nL 96.360123 108.796658 \r\nL 97.23662 108.796658 \r\nL 97.23662 107.906241 \r\nL 98.77049 107.906241 \r\nL 98.77049 107.015823 \r\nL 98.989614 107.015823 \r\nL 98.989614 106.125405 \r\nL 101.83823 106.125405 \r\nL 101.83823 104.34457 \r\nL 104.248597 104.34457 \r\nL 104.248597 102.563735 \r\nL 105.125094 102.563735 \r\nL 105.234657 100.782899 \r\nL 109.836267 100.782899 \r\nL 109.836267 99.892482 \r\nL 111.260575 99.892482 \r\nL 111.260575 99.002064 \r\nL 114.876125 99.002064 \r\nL 114.876125 98.111646 \r\nL 115.09525 98.111646 \r\nL 115.09525 97.221229 \r\nL 117.17693 97.221229 \r\nL 117.17693 96.330811 \r\nL 118.053427 96.330811 \r\nL 118.053427 94.549975 \r\nL 119.039487 94.549975 \r\nL 119.039487 93.659558 \r\nL 122.107227 93.659558 \r\nL 122.107227 92.76914 \r\nL 124.955843 92.76914 \r\nL 124.955843 91.878722 \r\nL 126.38015 91.878722 \r\nL 126.38015 90.988305 \r\nL 127.694896 90.988305 \r\nL 127.694896 90.097887 \r\nL 128.352269 90.097887 \r\nL 128.352269 89.207469 \r\nL 133.830376 89.207469 \r\nL 133.830376 86.536216 \r\nL 135.254684 86.536216 \r\nL 135.254684 85.645799 \r\nL 136.459868 85.645799 \r\nL 136.459868 84.755381 \r\nL 137.445927 84.755381 \r\nL 137.445927 83.864963 \r\nL 140.184981 83.864963 \r\nL 140.184981 82.084128 \r\nL 141.280602 82.084128 \r\nL 141.280602 81.19371 \r\nL 143.033596 81.19371 \r\nL 143.033596 80.303292 \r\nL 143.471845 80.303292 \r\nL 143.471845 79.412875 \r\nL 143.800531 79.412875 \r\nL 143.800531 78.522457 \r\nL 145.443964 78.522457 \r\nL 145.443964 77.632039 \r\nL 150.37426 77.632039 \r\nL 150.37426 76.741622 \r\nL 153.442 76.741622 \r\nL 153.442 75.851204 \r\nL 154.647184 75.851204 \r\nL 154.647184 74.960786 \r\nL 157.276675 74.960786 \r\nL 157.276675 74.070369 \r\nL 160.782664 74.070369 \r\nL 160.782664 73.179951 \r\nL 161.549599 73.179951 \r\nL 161.549599 72.289533 \r\nL 162.426096 72.289533 \r\nL 162.535658 69.61828 \r\nL 162.973907 69.61828 \r\nL 162.973907 68.727862 \r\nL 167.794641 68.727862 \r\nL 167.794641 67.837445 \r\nL 168.013765 67.837445 \r\nL 168.013765 66.947027 \r\nL 171.410192 66.947027 \r\nL 171.410192 66.056609 \r\nL 173.601435 66.056609 \r\nL 173.601435 65.166192 \r\nL 173.930121 65.166192 \r\nL 173.930121 64.275774 \r\nL 174.91618 64.275774 \r\nL 174.91618 63.385356 \r\nL 175.573553 63.385356 \r\nL 175.683115 61.604521 \r\nL 178.203045 61.604521 \r\nL 178.203045 60.714103 \r\nL 179.51779 60.714103 \r\nL 179.51779 59.823686 \r\nL 180.065601 59.823686 \r\nL 180.065601 58.933268 \r\nL 182.147282 58.933268 \r\nL 182.147282 58.04285 \r\nL 183.462028 58.04285 \r\nL 183.462028 57.152432 \r\nL 185.10546 57.152432 \r\nL 185.10546 56.262015 \r\nL 187.844513 56.262015 \r\nL 187.844513 55.371597 \r\nL 198.800728 55.371597 \r\nL 198.800728 54.481179 \r\nL 203.183213 54.481179 \r\nL 203.183213 53.590762 \r\nL 204.388397 53.590762 \r\nL 204.388397 52.700344 \r\nL 205.374456 52.700344 \r\nL 205.374456 51.809926 \r\nL 207.675261 51.809926 \r\nL 207.675261 50.919509 \r\nL 210.414315 50.919509 \r\nL 210.414315 50.029091 \r\nL 210.633439 50.029091 \r\nL 210.743001 48.248256 \r\nL 214.358552 48.248256 \r\nL 214.358552 47.357838 \r\nL 214.796801 47.357838 \r\nL 214.796801 46.46742 \r\nL 215.344611 46.46742 \r\nL 215.344611 45.577002 \r\nL 218.960162 45.577002 \r\nL 218.960162 44.686585 \r\nL 220.713157 44.686585 \r\nL 220.713157 43.796167 \r\nL 227.725134 43.796167 \r\nL 227.725134 42.905749 \r\nL 230.354625 42.905749 \r\nL 230.354625 42.015332 \r\nL 230.902436 42.015332 \r\nL 230.902436 40.234496 \r\nL 232.984117 40.234496 \r\nL 232.984117 39.344079 \r\nL 234.846673 39.344079 \r\nL 234.846673 38.453661 \r\nL 242.516023 38.453661 \r\nL 242.516023 37.563243 \r\nL 246.898509 37.563243 \r\nL 246.898509 36.672826 \r\nL 247.227195 36.672826 \r\nL 247.227195 35.782408 \r\nL 251.280995 35.782408 \r\nL 251.280995 34.89199 \r\nL 257.526037 34.89199 \r\nL 257.526037 34.001572 \r\nL 263.771079 34.001572 \r\nL 263.771079 33.111155 \r\nL 266.948381 33.111155 \r\nL 266.948381 32.220737 \r\nL 271.549991 32.220737 \r\nL 271.549991 31.330319 \r\nL 272.426489 31.330319 \r\nL 272.426489 30.439902 \r\nL 289.299059 30.439902 \r\nL 289.299059 29.549484 \r\nL 291.161615 29.549484 \r\nL 291.161615 28.659066 \r\nL 292.147675 28.659066 \r\nL 292.147675 27.768649 \r\nL 298.611841 27.768649 \r\nL 298.611841 26.878231 \r\nL 302.994327 26.878231 \r\nL 302.994327 25.987813 \r\nL 305.514256 25.987813 \r\nL 305.514256 25.097396 \r\nL 308.034185 25.097396 \r\nL 308.034185 24.206978 \r\nL 311.978423 24.206978 \r\nL 311.978423 23.31656 \r\nL 312.745358 23.31656 \r\nL 312.745358 22.426143 \r\nL 315.046163 22.426143 \r\nL 315.046163 21.535725 \r\nL 320.633832 21.535725 \r\nL 320.633832 20.645307 \r\nL 327.864933 20.645307 \r\nL 327.864933 19.754889 \r\nL 328.850993 19.754889 \r\nL 328.850993 18.864472 \r\nL 338.054213 18.864472 \r\nL 338.054213 17.974054 \r\nL 361.610074 17.974054 \r\nL 361.610074 17.083636 \r\nL 363.363068 17.083636 \r\nL 363.363068 17.083636 \r\n\" style=\"fill:none;stroke:#1f77b4;stroke-linecap:square;stroke-width:1.5;\"/>\r\n   </g>\r\n   <g id=\"patch_3\">\r\n    <path d=\"M 43.78125 224.64 \r\nL 43.78125 7.2 \r\n\" style=\"fill:none;stroke:#000000;stroke-linecap:square;stroke-linejoin:miter;stroke-width:0.8;\"/>\r\n   </g>\r\n   <g id=\"patch_4\">\r\n    <path d=\"M 378.58125 224.64 \r\nL 378.58125 7.2 \r\n\" style=\"fill:none;stroke:#000000;stroke-linecap:square;stroke-linejoin:miter;stroke-width:0.8;\"/>\r\n   </g>\r\n   <g id=\"patch_5\">\r\n    <path d=\"M 43.78125 224.64 \r\nL 378.58125 224.64 \r\n\" style=\"fill:none;stroke:#000000;stroke-linecap:square;stroke-linejoin:miter;stroke-width:0.8;\"/>\r\n   </g>\r\n   <g id=\"patch_6\">\r\n    <path d=\"M 43.78125 7.2 \r\nL 378.58125 7.2 \r\n\" style=\"fill:none;stroke:#000000;stroke-linecap:square;stroke-linejoin:miter;stroke-width:0.8;\"/>\r\n   </g>\r\n  </g>\r\n </g>\r\n <defs>\r\n  <clipPath id=\"p1902c5fb1c\">\r\n   <rect height=\"217.44\" width=\"334.8\" x=\"43.78125\" y=\"7.2\"/>\r\n  </clipPath>\r\n </defs>\r\n</svg>\r\n",
      "image/png": "[encoded data removed]"
     },
     "metadata": {
      "needs_background": "light"
     }
    }
   ],
   "source": [
    "getMetrics(df_validY,df_validYPred,df_validYPredProba[:,-1])"
   ]
  },
  {
   "cell_type": "code",
   "execution_count": 83,
   "metadata": {},
   "outputs": [
    {
     "output_type": "execute_result",
     "data": {
      "text/plain": [
       "array([0., 0., 1., ..., 1., 0., 0.])"
      ]
     },
     "metadata": {},
     "execution_count": 83
    }
   ],
   "source": [
    "df_validYPred"
   ]
  },
  {
   "cell_type": "code",
   "execution_count": 84,
   "metadata": {},
   "outputs": [
    {
     "output_type": "execute_result",
     "data": {
      "text/plain": [
       "array([0.1500221 , 0.40347927, 0.69739737, ..., 0.50173375, 0.4469705 ,\n",
       "       0.22673366])"
      ]
     },
     "metadata": {},
     "execution_count": 84
    }
   ],
   "source": [
    "df_validYPredProba[:,-1]"
   ]
  }
 ]
}