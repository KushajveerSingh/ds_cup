{
 "metadata": {
  "language_info": {
   "codemirror_mode": {
    "name": "ipython",
    "version": 3
   },
   "file_extension": ".py",
   "mimetype": "text/x-python",
   "name": "python",
   "nbconvert_exporter": "python",
   "pygments_lexer": "ipython3",
   "version": "3.8.5"
  },
  "orig_nbformat": 2,
  "kernelspec": {
   "name": "python3",
   "display_name": "Python 3.8.5 64-bit ('base': conda)",
   "metadata": {
    "interpreter": {
     "hash": "6f8ee94c255eb1f45edb80e83721093c1db1e2ea85447c0854292673b957abb8"
    }
   }
  }
 },
 "nbformat": 4,
 "nbformat_minor": 2,
 "cells": [
  {
   "cell_type": "code",
   "execution_count": 1,
   "metadata": {},
   "outputs": [],
   "source": [
    "from pathlib import Path\n",
    "import pandas as pd\n",
    "import matplotlib.pyplot as plt\n",
    "import numpy as np\n",
    "from sklearn.preprocessing import OneHotEncoder\n",
    "from sklearn.linear_model import RandomForest\n",
    "from sklearn.pipeline import make_pipeline\n",
    "from sklearn.model_selection import cross_validate\n",
    "from sklearn.metrics import accuracy_score, recall_score,precision_score\n",
    "smallestF =  np.finfo('float').eps # smallest float value (numpy), will be used later"
   ]
  },
  {
   "cell_type": "code",
   "execution_count": 2,
   "metadata": {},
   "outputs": [],
   "source": [
    "path = Path('../data_orig')\r\n",
    "# path = Path('ds_cup/orig_data')\r\n",
    "orig_train_df = pd.read_csv(path/'train.csv')\r\n",
    "orig_valid_df = pd.read_csv(path/'valid.csv')\r\n",
    "orig_test_df = pd.read_csv(path/'test.csv')\r\n",
    "#Fix Name error:\r\n",
    "orig_train_df.rename(columns={'auto_open_ 36_month_num': 'auto_open_36_month_num'},inplace=True)\r\n",
    "orig_valid_df.rename(columns={'auto_open_ 36_month_num': 'auto_open_36_month_num'},inplace=True)\r\n",
    "orig_test_df.rename(columns={'auto_open_ 36_month_num': 'auto_open_36_month_num'},inplace=True)"
   ]
  },
  {
   "cell_type": "code",
   "execution_count": 3,
   "metadata": {},
   "outputs": [
    {
     "output_type": "stream",
     "name": "stdout",
     "text": [
      "train dataset\nNum 0 values = 18414\nNum 1 values = 1586\n\nvalid dataset\nNum 0 values = 2778\nNum 1 values = 222\n\ntest dataset\nNum 0 values = 4599\nNum 1 values = 401\n\n"
     ]
    }
   ],
   "source": [
    "def print_size(df, name):\n",
    "    counts = df['Default_ind'].value_counts()\n",
    "    print(f'{name} dataset')\n",
    "    print(f'Num 0 values = {counts[0]}')\n",
    "    print(f'Num 1 values = {counts[1]}')\n",
    "    print()\n",
    "print_size(orig_train_df, 'train')\n",
    "print_size(orig_valid_df, 'valid')\n",
    "print_size(orig_test_df, 'test')"
   ]
  },
  {
   "cell_type": "code",
   "execution_count": 4,
   "metadata": {},
   "outputs": [
    {
     "output_type": "stream",
     "name": "stdout",
     "text": [
      "tot_credit_debt                          0\navg_card_debt                            0\ncredit_age                               0\ncredit_good_age                          0\ncard_age                                 0\nnon_mtg_acc_past_due_12_months_num       0\nnon_mtg_acc_past_due_6_months_num        0\nmortgages_past_due_6_months_num          0\ncredit_past_due_amount                   0\ninq_12_month_num                         0\ncard_inq_24_month_num                    0\ncard_open_36_month_num                   0\nauto_open_36_month_num                   0\nuti_card                                 0\nuti_50plus_pct                           0\nuti_max_credit_line                      0\nuti_card_50plus_pct                   2055\nind_acc_XYZ                              0\nrep_income                            1570\nStates                                   0\nDefault_ind                              0\ndtype: int64\n--\ntot_credit_debt                         0\navg_card_debt                           0\ncredit_age                              0\ncredit_good_age                         0\ncard_age                                0\nnon_mtg_acc_past_due_12_months_num      0\nnon_mtg_acc_past_due_6_months_num       0\nmortgages_past_due_6_months_num         0\ncredit_past_due_amount                  0\ninq_12_month_num                        0\ncard_inq_24_month_num                   0\ncard_open_36_month_num                  0\nauto_open_36_month_num                  0\nuti_card                                0\nuti_50plus_pct                          0\nuti_max_credit_line                     0\nuti_card_50plus_pct                   297\nind_acc_XYZ                             0\nrep_income                            253\nStates                                  0\nDefault_ind                             0\ndtype: int64\n--\ntot_credit_debt                         0\navg_card_debt                           0\ncredit_age                              0\ncredit_good_age                         0\ncard_age                                0\nnon_mtg_acc_past_due_12_months_num      0\nnon_mtg_acc_past_due_6_months_num       0\nmortgages_past_due_6_months_num         0\ncredit_past_due_amount                  0\ninq_12_month_num                        0\ncard_inq_24_month_num                   0\ncard_open_36_month_num                  0\nauto_open_36_month_num                  0\nuti_card                                0\nuti_50plus_pct                          0\nuti_max_credit_line                     0\nuti_card_50plus_pct                   499\nind_acc_XYZ                             0\nrep_income                            383\nStates                                  0\nDefault_ind                             0\ndtype: int64\n--\n"
     ]
    }
   ],
   "source": [
    "print(orig_train_df.isnull().sum())\n",
    "print('--')\n",
    "print(orig_valid_df.isnull().sum())\n",
    "print('--')\n",
    "print(orig_test_df.isnull().sum())\n",
    "print('--')"
   ]
  }
 ]
}